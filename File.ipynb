{
 "cells": [
  {
   "cell_type": "code",
   "execution_count": 1,
   "id": "06005099-7d8d-4095-a905-a3866d3b2fb2",
   "metadata": {},
   "outputs": [
    {
     "data": {
      "text/plain": [
       "'   .FILE.   '"
      ]
     },
     "execution_count": 1,
     "metadata": {},
     "output_type": "execute_result"
    }
   ],
   "source": [
    "\"\"\"   .FILE.   \"\"\""
   ]
  },
  {
   "cell_type": "code",
   "execution_count": 2,
   "id": "697c35aa-e032-49db-a5bb-b6c6a5b0bddc",
   "metadata": {},
   "outputs": [],
   "source": [
    "f = open(\"File.txt\", 'w')"
   ]
  },
  {
   "cell_type": "code",
   "execution_count": 3,
   "id": "c85f6e8f-345b-46da-b37d-311791a9b86d",
   "metadata": {},
   "outputs": [
    {
     "data": {
      "text/plain": [
       "'/home/jovyan/work'"
      ]
     },
     "execution_count": 3,
     "metadata": {},
     "output_type": "execute_result"
    }
   ],
   "source": [
    "pwd"
   ]
  },
  {
   "cell_type": "code",
   "execution_count": 4,
   "id": "d4c448cd-7975-46dc-b5a4-2b240c3bdba1",
   "metadata": {},
   "outputs": [
    {
     "name": "stdout",
     "output_type": "stream",
     "text": [
      "[Errno 2] No such file or directory: 'work'\n",
      "/home/jovyan/work\n"
     ]
    }
   ],
   "source": [
    "cd work"
   ]
  },
  {
   "cell_type": "code",
   "execution_count": 5,
   "id": "4a3df4b4-816a-419b-879d-710a3d7e3c15",
   "metadata": {},
   "outputs": [
    {
     "name": "stdout",
     "output_type": "stream",
     "text": [
      "'Assignment 1.ipynb'  'Assignment 6.ipynb'   File.txt\n",
      "'Assignment 2.ipynb'  'Assignment 7.ipynb'   Funtion.ipynb\n",
      "'Assignment 3.ipynb'   CLASS.ipynb           INHERITANCE.ipynb\n",
      "'Assignment 4.ipynb'   Comprehension.ipynb   OOPS.ipynb\n",
      "'Assignment 5.ipynb'   File.ipynb           'While Loop.ipynb'\n"
     ]
    }
   ],
   "source": [
    "ls"
   ]
  },
  {
   "cell_type": "code",
   "execution_count": 6,
   "id": "a2df7af7-82f6-4141-8e79-91f482c8e51e",
   "metadata": {},
   "outputs": [
    {
     "data": {
      "text/plain": [
       "22"
      ]
     },
     "execution_count": 6,
     "metadata": {},
     "output_type": "execute_result"
    }
   ],
   "source": [
    " f.write(\"This is my first file.\")"
   ]
  },
  {
   "cell_type": "code",
   "execution_count": 7,
   "id": "a242c0b9-8cfe-4d90-a1a2-415a54618f33",
   "metadata": {},
   "outputs": [],
   "source": [
    "f.close()"
   ]
  },
  {
   "cell_type": "code",
   "execution_count": 8,
   "id": "6a814cc7-03ec-493a-8e39-3858031ab6da",
   "metadata": {},
   "outputs": [],
   "source": [
    "f = open(\"File.txt\", 'w')"
   ]
  },
  {
   "cell_type": "code",
   "execution_count": 9,
   "id": "510d35fe-bb1a-4397-9729-e90d2f0a6a1c",
   "metadata": {},
   "outputs": [
    {
     "data": {
      "text/plain": [
       "16"
      ]
     },
     "execution_count": 9,
     "metadata": {},
     "output_type": "execute_result"
    }
   ],
   "source": [
    "f.write(\"This is my file.\")"
   ]
  },
  {
   "cell_type": "code",
   "execution_count": 10,
   "id": "73e87a48-25c2-4d06-bda2-d06b85c68dde",
   "metadata": {},
   "outputs": [],
   "source": [
    "f.close()"
   ]
  },
  {
   "cell_type": "code",
   "execution_count": 11,
   "id": "6157b55e-1224-49a9-b7ff-de775e31975a",
   "metadata": {},
   "outputs": [],
   "source": [
    "f = open(\"File.txt\", 'a')"
   ]
  },
  {
   "cell_type": "code",
   "execution_count": 12,
   "id": "e2d8c28c-5528-4901-a718-758c80f31405",
   "metadata": {},
   "outputs": [
    {
     "data": {
      "text/plain": [
       "19"
      ]
     },
     "execution_count": 12,
     "metadata": {},
     "output_type": "execute_result"
    }
   ],
   "source": [
    "f.write(\"Welcome to my file.\")"
   ]
  },
  {
   "cell_type": "code",
   "execution_count": 13,
   "id": "a0f2c24e-a120-4450-804e-f905def5be45",
   "metadata": {},
   "outputs": [],
   "source": [
    "f.close()"
   ]
  },
  {
   "cell_type": "code",
   "execution_count": 14,
   "id": "5578103d-1485-48f6-ac82-a33e0ae07ba5",
   "metadata": {},
   "outputs": [],
   "source": [
    "data = open(\"File.txt\", 'r')"
   ]
  },
  {
   "cell_type": "code",
   "execution_count": 15,
   "id": "d907e4d1-9a60-457a-8f81-41287bf0c4a1",
   "metadata": {},
   "outputs": [
    {
     "data": {
      "text/plain": [
       "'This is my file.Welcome to my file.'"
      ]
     },
     "execution_count": 15,
     "metadata": {},
     "output_type": "execute_result"
    }
   ],
   "source": [
    "data.read()"
   ]
  },
  {
   "cell_type": "code",
   "execution_count": 16,
   "id": "16ad3bd5-e2e7-432e-92bc-d268b4be246e",
   "metadata": {},
   "outputs": [
    {
     "data": {
      "text/plain": [
       "''"
      ]
     },
     "execution_count": 16,
     "metadata": {},
     "output_type": "execute_result"
    }
   ],
   "source": [
    "data.readline()"
   ]
  },
  {
   "cell_type": "code",
   "execution_count": 17,
   "id": "7bc37190-cdf0-453c-affe-5198c1da3f5a",
   "metadata": {},
   "outputs": [
    {
     "data": {
      "text/plain": [
       "0"
      ]
     },
     "execution_count": 17,
     "metadata": {},
     "output_type": "execute_result"
    }
   ],
   "source": [
    "data.seek(0)"
   ]
  },
  {
   "cell_type": "code",
   "execution_count": 18,
   "id": "721eb698-7cbd-4aff-a416-092fa304b1e8",
   "metadata": {},
   "outputs": [
    {
     "data": {
      "text/plain": [
       "'This is my file.Welcome to my file.'"
      ]
     },
     "execution_count": 18,
     "metadata": {},
     "output_type": "execute_result"
    }
   ],
   "source": [
    "data.readline()"
   ]
  },
  {
   "cell_type": "code",
   "execution_count": 19,
   "id": "2f821051-c7d3-4199-8adf-c311080c28ee",
   "metadata": {},
   "outputs": [
    {
     "data": {
      "text/plain": [
       "0"
      ]
     },
     "execution_count": 19,
     "metadata": {},
     "output_type": "execute_result"
    }
   ],
   "source": [
    "data.seek(0)"
   ]
  },
  {
   "cell_type": "code",
   "execution_count": 20,
   "id": "561b4ac3-cc6f-4fd0-986f-a1b759170779",
   "metadata": {},
   "outputs": [
    {
     "data": {
      "text/plain": [
       "'This is my file.Welcome to my file.'"
      ]
     },
     "execution_count": 20,
     "metadata": {},
     "output_type": "execute_result"
    }
   ],
   "source": [
    "data.read()"
   ]
  },
  {
   "cell_type": "code",
   "execution_count": 21,
   "id": "00045e34-5f3d-468c-a2c6-b00a8d93e4dc",
   "metadata": {},
   "outputs": [],
   "source": [
    "data1 = open(\"File.txt\",'r')"
   ]
  },
  {
   "cell_type": "code",
   "execution_count": 22,
   "id": "8623cc75-9569-43ab-97fe-d10801be074a",
   "metadata": {},
   "outputs": [
    {
     "name": "stdout",
     "output_type": "stream",
     "text": [
      "This is my file.Welcome to my file.\n"
     ]
    }
   ],
   "source": [
    "for i in data1:\n",
    "    print(i)"
   ]
  },
  {
   "cell_type": "code",
   "execution_count": 23,
   "id": "c1267700-304c-4605-ba00-53d6782b0b18",
   "metadata": {},
   "outputs": [],
   "source": [
    "import os"
   ]
  },
  {
   "cell_type": "code",
   "execution_count": 24,
   "id": "8bcc2fba-f3fb-4320-b9c6-08748adfa0da",
   "metadata": {},
   "outputs": [
    {
     "data": {
      "text/plain": [
       "35"
      ]
     },
     "execution_count": 24,
     "metadata": {},
     "output_type": "execute_result"
    }
   ],
   "source": [
    "os.path.getsize(\"File.txt\")"
   ]
  },
  {
   "cell_type": "code",
   "execution_count": 25,
   "id": "451e78f5-583e-4206-9069-5e612ab52dc2",
   "metadata": {},
   "outputs": [],
   "source": [
    "os.remove(\"File.txt\")"
   ]
  },
  {
   "cell_type": "code",
   "execution_count": 34,
   "id": "9d9e6eea-25e1-46c3-82bc-6c099e493459",
   "metadata": {},
   "outputs": [],
   "source": [
    "f = open(\"File1.txt\",'w')"
   ]
  },
  {
   "cell_type": "code",
   "execution_count": 35,
   "id": "a4d834fc-5a13-46c9-ac68-9e6b13e5dc97",
   "metadata": {},
   "outputs": [
    {
     "data": {
      "text/plain": [
       "38"
      ]
     },
     "execution_count": 35,
     "metadata": {},
     "output_type": "execute_result"
    }
   ],
   "source": [
    "f.write(\"This is my new file created by Python.\")"
   ]
  },
  {
   "cell_type": "code",
   "execution_count": 36,
   "id": "0a8460da-c753-4055-bc55-de40f15ec5c8",
   "metadata": {},
   "outputs": [],
   "source": [
    "f.close()"
   ]
  },
  {
   "cell_type": "code",
   "execution_count": 37,
   "id": "ca422b1e-f20c-43e4-935a-c6fb84df46d5",
   "metadata": {},
   "outputs": [],
   "source": [
    "os.rename(\"File1.txt\",\"New File.txt\")"
   ]
  },
  {
   "cell_type": "code",
   "execution_count": 38,
   "id": "edf11b78-9632-4a1c-bd5d-7b5d15f43e35",
   "metadata": {},
   "outputs": [],
   "source": [
    "import shutil"
   ]
  },
  {
   "cell_type": "code",
   "execution_count": 39,
   "id": "9fafcb5e-d2f7-47bf-a0ae-df1491d64f86",
   "metadata": {},
   "outputs": [
    {
     "data": {
      "text/plain": [
       "'Copy_New.txt'"
      ]
     },
     "execution_count": 39,
     "metadata": {},
     "output_type": "execute_result"
    }
   ],
   "source": [
    "shutil.copy(\"New File.txt\",\"Copy_New.txt\")"
   ]
  },
  {
   "cell_type": "code",
   "execution_count": 40,
   "id": "b8be2b9a-333b-4f6c-b396-935b2ce93c64",
   "metadata": {},
   "outputs": [
    {
     "name": "stdout",
     "output_type": "stream",
     "text": [
      "This is my new file created by Python.\n"
     ]
    }
   ],
   "source": [
    "with open(\"New File.txt\", 'r') as f:\n",
    "    print(f.read())"
   ]
  },
  {
   "cell_type": "raw",
   "id": "094cfff5-be3e-4c9c-b3e4-3d899b1c28ff",
   "metadata": {},
   "source": []
  },
  {
   "cell_type": "code",
   "execution_count": 41,
   "id": "5a2e7662-33a9-4a83-a9a5-4a69dcc14aaa",
   "metadata": {},
   "outputs": [
    {
     "data": {
      "text/plain": [
       "'   .Reading & Writing in File.   '"
      ]
     },
     "execution_count": 41,
     "metadata": {},
     "output_type": "execute_result"
    }
   ],
   "source": [
    "\"\"\"   .Reading & Writing in File.   \"\"\""
   ]
  },
  {
   "cell_type": "code",
   "execution_count": 68,
   "id": "708f8383-30d8-4ca6-81df-46d4faeb25d6",
   "metadata": {},
   "outputs": [],
   "source": [
    "Data = {\n",
    "    \"Name\" : \"Anish Akshi \",\n",
    "    \"Email\" : \"akshianish2908@gmail.com \",\n",
    "    \"Phone\" : 7903962977,\n",
    "    \"Branch\" : \"CSE \",\n",
    "    \"Subjects\" : [\"Python \", \"Compiler \", \"Software Engineering \", \"Cloud Computing \", \"Big Data \"]\n",
    "}"
   ]
  },
  {
   "cell_type": "code",
   "execution_count": 69,
   "id": "9c391444-391a-49a6-a087-1392ae32b0c3",
   "metadata": {},
   "outputs": [],
   "source": [
    "import json"
   ]
  },
  {
   "cell_type": "code",
   "execution_count": 70,
   "id": "e6742a6e-cfd8-4633-ba17-dcdee55f92ee",
   "metadata": {},
   "outputs": [],
   "source": [
    "with open(\"Data.json\",'w') as f:\n",
    "    json.dump(data , f)"
   ]
  },
  {
   "cell_type": "code",
   "execution_count": 74,
   "id": "83f10840-7ff2-465e-a4e7-26614b4c2aba",
   "metadata": {},
   "outputs": [],
   "source": [
    "with open(\"Data.json\", \"r\") as f:\n",
    "    DATA = json.load(f)"
   ]
  },
  {
   "cell_type": "code",
   "execution_count": 75,
   "id": "d9b5e391-3861-48f5-9ff2-91a7a5c710cf",
   "metadata": {},
   "outputs": [
    {
     "data": {
      "text/plain": [
       "{'Name': 'Anish Akshi ',\n",
       " 'Email': 'akshianish2908@gmail.com ',\n",
       " 'Phone': 7903962977,\n",
       " 'Branch': 'CSE ',\n",
       " 'Subjects': ['Python ',\n",
       "  'Compiler ',\n",
       "  'Software Engineering ',\n",
       "  'Cloud Computing ',\n",
       "  'Big Data ']}"
      ]
     },
     "execution_count": 75,
     "metadata": {},
     "output_type": "execute_result"
    }
   ],
   "source": [
    "DATA"
   ]
  },
  {
   "cell_type": "code",
   "execution_count": 76,
   "id": "d00bd327-a3a1-48a4-af56-91fb0ebaad6e",
   "metadata": {},
   "outputs": [
    {
     "data": {
      "text/plain": [
       "'Big Data '"
      ]
     },
     "execution_count": 76,
     "metadata": {},
     "output_type": "execute_result"
    }
   ],
   "source": [
    "DATA['Subjects'][4]"
   ]
  },
  {
   "cell_type": "code",
   "execution_count": 4,
   "id": "d0e5d727-cf38-4ce1-b41f-1848b6d3c074",
   "metadata": {},
   "outputs": [],
   "source": [
    "import csv"
   ]
  },
  {
   "cell_type": "code",
   "execution_count": 5,
   "id": "dc2b4fbe-1691-4312-93d6-e5af1201bf3f",
   "metadata": {},
   "outputs": [],
   "source": [
    "Data = [[\"Name\", \"Email\", \"Phone\"],\n",
    "        [\"Anish Akshi\", \"anishakshi@gmail.com\", 7903962977],\n",
    "        [\"Rahul\", \"rahulkr@gmail.com\", 9324697279]\n",
    "       ]"
   ]
  },
  {
   "cell_type": "code",
   "execution_count": 6,
   "id": "787511b3-014b-4c08-a51b-7ddbdeb8e605",
   "metadata": {},
   "outputs": [],
   "source": [
    "with open(\"Data.csv\", \"w\") as f:\n",
    "    writer = csv.writer(f)\n",
    "    for i in Data:\n",
    "        writer.writerow(i)"
   ]
  },
  {
   "cell_type": "code",
   "execution_count": 7,
   "id": "eceef343-020b-4dea-b4c5-c62d97a7f276",
   "metadata": {},
   "outputs": [
    {
     "name": "stdout",
     "output_type": "stream",
     "text": [
      "['Name', 'Email', 'Phone']\n",
      "['Anish Akshi', 'anishakshi@gmail.com', 7903962977]\n",
      "['Rahul', 'rahulkr@gmail.com', 9324697279]\n"
     ]
    }
   ],
   "source": [
    "with open(\"Data.csv\", \"r\") as f:\n",
    "    read_data = csv.reader(f)\n",
    "    \n",
    "    for i in Data:\n",
    "        print(i)"
   ]
  },
  {
   "cell_type": "code",
   "execution_count": 11,
   "id": "1a00c643-96a0-46a4-b0b8-16b5f3607409",
   "metadata": {},
   "outputs": [],
   "source": [
    "with open(\"test.bin\", \"wb\") as f:\n",
    "    f.write(b\"\\x01\\x02\\x03\\x5387\")"
   ]
  },
  {
   "cell_type": "code",
   "execution_count": 13,
   "id": "bade80a6-d181-457b-956a-059a447de8a0",
   "metadata": {},
   "outputs": [
    {
     "name": "stdout",
     "output_type": "stream",
     "text": [
      "b'\\x01\\x02\\x03S87'\n"
     ]
    }
   ],
   "source": [
    "with open(\"test.bin\", \"rb\")as f:\n",
    "    print(f.read())"
   ]
  },
  {
   "cell_type": "raw",
   "id": "76897a32-90a5-4f22-9425-7acb7a0cebfe",
   "metadata": {},
   "source": []
  },
  {
   "cell_type": "code",
   "execution_count": null,
   "id": "4316df4c-2e35-4281-a271-f8a7771917ad",
   "metadata": {},
   "outputs": [],
   "source": [
    "\"\"\"Buffered Read\"\"\""
   ]
  },
  {
   "cell_type": "code",
   "execution_count": 14,
   "id": "45df8a5c-6414-4687-9802-ffc246d9bcf7",
   "metadata": {},
   "outputs": [],
   "source": [
    "import io"
   ]
  },
  {
   "cell_type": "code",
   "execution_count": 15,
   "id": "510a70cc-2b21-4c3e-818e-2c33131a9f1f",
   "metadata": {},
   "outputs": [],
   "source": [
    "with open(\"test1.txt\", \"wb\") as f:\n",
    "    file = io.BufferedWriter(f)\n",
    "    \n",
    "    file.write(b\"This is the buffered file.\\n\")\n",
    "    file.write(b\"This is pwskills.\")\n",
    "    file.flush()"
   ]
  },
  {
   "cell_type": "code",
   "execution_count": 18,
   "id": "418ee6ca-a687-443a-a9be-464f50c6217e",
   "metadata": {},
   "outputs": [
    {
     "name": "stdout",
     "output_type": "stream",
     "text": [
      "b'This is the buffered file.\\nThis is pwskills.'\n"
     ]
    }
   ],
   "source": [
    "with open(\"test1.txt\", \"rb\") as f:\n",
    "    file = io.BufferedReader(f)\n",
    "    data = file.read()\n",
    "    print(data)"
   ]
  },
  {
   "cell_type": "code",
   "execution_count": 19,
   "id": "a26c1394-a664-4c3f-bf58-061e2c26cecd",
   "metadata": {},
   "outputs": [
    {
     "name": "stdout",
     "output_type": "stream",
     "text": [
      "b'This is th'\n"
     ]
    }
   ],
   "source": [
    "with open(\"test1.txt\", \"rb\") as f:\n",
    "    file = io.BufferedReader(f)\n",
    "    data = file.read(10)\n",
    "    print(data)"
   ]
  },
  {
   "cell_type": "raw",
   "id": "66c60ff2-94d8-4ed7-a7f1-10c8507b1454",
   "metadata": {},
   "source": []
  },
  {
   "cell_type": "code",
   "execution_count": null,
   "id": "ccc7f69e-8026-4c8d-aa5b-d158275f9b03",
   "metadata": {},
   "outputs": [],
   "source": []
  }
 ],
 "metadata": {
  "kernelspec": {
   "display_name": "Python 3 (ipykernel)",
   "language": "python",
   "name": "python3"
  },
  "language_info": {
   "codemirror_mode": {
    "name": "ipython",
    "version": 3
   },
   "file_extension": ".py",
   "mimetype": "text/x-python",
   "name": "python",
   "nbconvert_exporter": "python",
   "pygments_lexer": "ipython3",
   "version": "3.10.8"
  }
 },
 "nbformat": 4,
 "nbformat_minor": 5
}
