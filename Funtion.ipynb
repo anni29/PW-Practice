{
 "cells": [
  {
   "cell_type": "code",
   "execution_count": 17,
   "id": "94455150-211e-4366-b697-63cf656f5325",
   "metadata": {},
   "outputs": [
    {
     "data": {
      "text/plain": [
       "(1, 2, 3, 4, 5, 'Anish', 'Akshi', [11, 22, 33, 44, 55])"
      ]
     },
     "execution_count": 17,
     "metadata": {},
     "output_type": "execute_result"
    }
   ],
   "source": [
    "l1 = [2, 4, 6, 8, 10, 12, 14, 16, 18, 20]"
   ]
  },
  {
   "cell_type": "code",
   "execution_count": 76,
   "id": "7f872942-10e5-4813-abd5-3c4848aa44dc",
   "metadata": {},
   "outputs": [
    {
     "data": {
      "text/plain": [
       "{'a': [1, 2, 3, 4, 5], 'b': 'Anish', 'c': 'Akshi'}"
      ]
     },
     "execution_count": 76,
     "metadata": {},
     "output_type": "execute_result"
    }
   ],
   "source": [
    "#Program:\n",
    "def KeywordArguments(**kwargs):\n",
    "    return kwargs\n",
    "KeywordArguments(a = [1, 2, 3, 4, 5] , b = \"Anish\", c = \"Akshi\")"
   ]
  },
  {
   "cell_type": "code",
   "execution_count": 85,
   "id": "c167dde6-f589-4bc8-884b-6964c721516b",
   "metadata": {},
   "outputs": [
    {
     "name": "stdout",
     "output_type": "stream",
     "text": [
      "ITER\n",
      "2\n",
      "4\n",
      "6\n",
      "8\n",
      "10\n"
     ]
    }
   ],
   "source": [
    "\"\"\"._ITER_().\"\"\"\n",
    "l1 = [2, 4, 6, 8, 10,12, 14, 16, 18, 20]\n",
    "l1_iter = iter(l1)\n",
    "print (\"ITER\")\n",
    "for index, item in enumerate(l1_iter):\n",
    "    print (item)\n",
    "    if index == 4:\n",
    "        break\n"
   ]
  },
  {
   "cell_type": "code",
   "execution_count": 86,
   "id": "47802e87-086e-48cb-b98c-8ed19510df8d",
   "metadata": {},
   "outputs": [
    {
     "name": "stdout",
     "output_type": "stream",
     "text": [
      "NEXT\n",
      "2\n",
      "4\n",
      "6\n",
      "8\n",
      "10\n"
     ]
    }
   ],
   "source": [
    "\"\"\"._NEXT_().\"\"\"\n",
    "l1 = [2, 4, 6, 8, 10, 12, 14, 16, 18, 20]\n",
    "l1_iter = iter(l1)\n",
    "print(\"NEXT\")\n",
    "print(next(l1_iter))\n",
    "print(next(l1_iter))\n",
    "print(next(l1_iter))\n",
    "print(next(l1_iter))\n",
    "print(next(l1_iter))\n"
   ]
  },
  {
   "cell_type": "code",
   "execution_count": 92,
   "id": "1e9fff7f-3b42-40e6-a5cb-bf3d9b8fc2a4",
   "metadata": {},
   "outputs": [],
   "source": [
    "def simple():  \n",
    "    for i in range(10):\n",
    "        if(i%2==0):  \n",
    "            yield i  \n",
    "    for i in simple():  \n",
    "            print(i)     "
   ]
  },
  {
   "cell_type": "code",
   "execution_count": 101,
   "id": "33aad3f5-8fe0-482f-a66b-2e82ea27e339",
   "metadata": {},
   "outputs": [
    {
     "name": "stdout",
     "output_type": "stream",
     "text": [
      "0\n",
      "1\n",
      "2\n",
      "3\n",
      "4\n",
      "5\n"
     ]
    }
   ],
   "source": [
    "\"\"\".GENERATOR.\"\"\"\n",
    "def my_generator(n):\n",
    "\n",
    "    # initialize counter\n",
    "    value = 0\n",
    "\n",
    "    # loop until counter is less than n\n",
    "    while value <= n:\n",
    "\n",
    "        # produce the current value of the counter\n",
    "        yield value\n",
    "\n",
    "        # increment the counter\n",
    "        value += 1\n",
    "\n",
    "# iterate over the generator object produced by my_generator\n",
    "for value in my_generator(5):\n",
    "\n",
    "    # print each value produced by generator\n",
    "    print(value)"
   ]
  },
  {
   "cell_type": "code",
   "execution_count": 1,
   "id": "f8adf11a-362f-40bb-8c86-8802502f2b0a",
   "metadata": {},
   "outputs": [
    {
     "name": "stdin",
     "output_type": "stream",
     "text": [
      "Enter the number 10\n"
     ]
    },
    {
     "name": "stdout",
     "output_type": "stream",
     "text": [
      "0\n",
      "1\n",
      "1\n",
      "2\n",
      "3\n",
      "5\n",
      "8\n",
      "13\n",
      "21\n",
      "34\n"
     ]
    }
   ],
   "source": [
    "n = int(input(\"Enter the number\"))\n",
    "a , b = 0 , 1\n",
    "counter = 0\n",
    "while counter < n:\n",
    "    print(a)\n",
    "    c = a + b\n",
    "    a = b\n",
    "    b = c\n",
    "    counter = counter + 1"
   ]
  },
  {
   "cell_type": "code",
   "execution_count": 1,
   "id": "38426b85-4489-41d3-b2b9-d34f960b52ab",
   "metadata": {},
   "outputs": [
    {
     "name": "stdout",
     "output_type": "stream",
     "text": [
      "['p', 'w', 's', 'k', 'i', 'l', 'l', 's']\n"
     ]
    }
   ],
   "source": [
    "A = []\n",
    "for char in 'pwskills':\n",
    "    A.append(char)\n",
    "print(A)"
   ]
  },
  {
   "cell_type": "code",
   "execution_count": 3,
   "id": "fa9b24ca-d54f-49e8-9f77-c50b58980f4b",
   "metadata": {},
   "outputs": [
    {
     "name": "stdin",
     "output_type": "stream",
     "text": [
      "Enter a number: 138\n"
     ]
    },
    {
     "name": "stdout",
     "output_type": "stream",
     "text": [
      "Not a palindrome!\n"
     ]
    }
   ],
   "source": [
    "#PALINDROME\n",
    "num = int(input(\"Enter a number:\"))\n",
    "temp = num\n",
    "rev = 0\n",
    "while (num>0):\n",
    "    dig = num % 10\n",
    "    rev = rev * 10 + dig\n",
    "    num = num // 10\n",
    "if (temp == rev):\n",
    "    print(\"The number is palindrome!\")\n",
    "else:\n",
    "    print(\"Not a palindrome!\")"
   ]
  },
  {
   "cell_type": "code",
   "execution_count": 2,
   "id": "7549f6ad-14a4-43e8-91a5-e3420beb11ae",
   "metadata": {},
   "outputs": [
    {
     "name": "stdout",
     "output_type": "stream",
     "text": [
      "0\n",
      "1\n",
      "1\n",
      "2\n",
      "3\n"
     ]
    }
   ],
   "source": [
    "#Fibonacci of n number using Generator.\n",
    "def fab(n):\n",
    "    a , b = 0 , 1\n",
    "    for i in range(n):\n",
    "        yield a\n",
    "        a, b = b, a+b # (a=b) , (b=a+b)\n",
    "for i in fab(5):\n",
    "    print(i)"
   ]
  },
  {
   "cell_type": "raw",
   "id": "4341bf94-cbca-4995-81ec-c3e44ebd1419",
   "metadata": {},
   "source": []
  },
  {
   "cell_type": "code",
   "execution_count": 3,
   "id": "f2b80cbc-c11f-4579-9f13-2eee724e18d2",
   "metadata": {},
   "outputs": [
    {
     "data": {
      "text/plain": [
       "4096"
      ]
     },
     "execution_count": 3,
     "metadata": {},
     "output_type": "execute_result"
    }
   ],
   "source": [
    "def cal(n,p):\n",
    "    return n**p\n",
    "cal(4,6)"
   ]
  },
  {
   "cell_type": "code",
   "execution_count": null,
   "id": "526135a2-88cf-476c-b83e-f65664cb7944",
   "metadata": {},
   "outputs": [],
   "source": [
    "\"\"\"  .LAMBDA.  \"\"\""
   ]
  },
  {
   "cell_type": "code",
   "execution_count": null,
   "id": "8d7b2222-e159-4b52-bbf2-777450635031",
   "metadata": {},
   "outputs": [],
   "source": [
    "\"\"\"  01.  \"\"\"\n",
    "\n",
    "#Lambda\n",
    "A = lambda n , p : n ** p\n",
    "A (4, 6)"
   ]
  },
  {
   "cell_type": "code",
   "execution_count": null,
   "id": "b8c07904-6e08-4bb9-b344-ce271916347d",
   "metadata": {},
   "outputs": [],
   "source": [
    "\"\"\"  02.  \"\"\"\n",
    "\n",
    "finding_max = lambda a, b : x if a > b else b\n",
    "finding_max(12,23)"
   ]
  },
  {
   "cell_type": "code",
   "execution_count": null,
   "id": "855b4ebf-54f3-4a30-9da8-438e98ad1b79",
   "metadata": {},
   "outputs": [],
   "source": [
    "\"\"\"  03.   \"\"\"\n",
    "\n",
    "s = \"Anish Akshi\"\n",
    "find_len = lambda s: len(s)\n",
    "find_len(s)"
   ]
  },
  {
   "cell_type": "code",
   "execution_count": 27,
   "id": "a0793b03-149d-4701-8f90-5d4f36f06326",
   "metadata": {},
   "outputs": [
    {
     "name": "stdout",
     "output_type": "stream",
     "text": [
      "[('Virat Kohli', 24936), ('Jack Kallis', 25534), ('Ricky Ponting', 27483), ('Sachin Tendulkar', 34357)]\n"
     ]
    }
   ],
   "source": [
    "\"\"\"   04.   \"\"\"\n",
    "List = [('Sachin Tendulkar', 34357), ('Ricky Ponting', 27483), ('Jack Kallis', 25534), ('Virat Kohli', 24936)]\n",
    "List.sort(key = lambda x: x[1])\n",
    "print(List)"
   ]
  },
  {
   "cell_type": "raw",
   "id": "cd6c4001-71e1-4d6e-8782-bb719ab4cdab",
   "metadata": {},
   "source": []
  },
  {
   "cell_type": "code",
   "execution_count": null,
   "id": "3f5994c3-c751-4759-b5e0-7c072cadef13",
   "metadata": {},
   "outputs": [],
   "source": [
    "\"\"\"  .MAP.  \"\"\""
   ]
  },
  {
   "cell_type": "code",
   "execution_count": 4,
   "id": "6f736e05-4440-4352-8419-cb2797d73539",
   "metadata": {},
   "outputs": [
    {
     "data": {
      "text/plain": [
       "[1, 4, 9, 16, 25, 36, 49, 64, 81, 100]"
      ]
     },
     "execution_count": 4,
     "metadata": {},
     "output_type": "execute_result"
    }
   ],
   "source": [
    "\"\"\"   01   \"\"\"\n",
    "L = [1,2,3,4,5,6,7,8,9,10]\n",
    "def sq(x):\n",
    "    return x**2\n",
    "list(map(sq,L))"
   ]
  },
  {
   "cell_type": "code",
   "execution_count": 18,
   "id": "e34d468d-69ed-45c5-b8e0-c99b45386ee8",
   "metadata": {},
   "outputs": [
    {
     "data": {
      "text/plain": [
       "[1, 4, 9, 16, 25]"
      ]
     },
     "execution_count": 18,
     "metadata": {},
     "output_type": "execute_result"
    }
   ],
   "source": [
    "\"\"\"   02.   \"\"\"\n",
    "L = [1,2,3,4,5]\n",
    "list(map(lambda x : x**2 , L))"
   ]
  },
  {
   "cell_type": "code",
   "execution_count": 22,
   "id": "a2cd0fba-0fc3-444d-b8ba-004e605b9fee",
   "metadata": {},
   "outputs": [
    {
     "data": {
      "text/plain": [
       "[6, 8, 10, 12, 14]"
      ]
     },
     "execution_count": 22,
     "metadata": {},
     "output_type": "execute_result"
    }
   ],
   "source": [
    "\"\"\"    03.   \"\"\"\n",
    "L1 = [1,2,3,4,5]\n",
    "L2 = [5,6,7,8,9]\n",
    "list(map(lambda x , y : x+y , L1, L2))"
   ]
  },
  {
   "cell_type": "code",
   "execution_count": 23,
   "id": "57deeb82-da60-4e97-9ee4-833521a6b52c",
   "metadata": {},
   "outputs": [
    {
     "data": {
      "text/plain": [
       "[6, 8, 10, 12, 14]"
      ]
     },
     "execution_count": 23,
     "metadata": {},
     "output_type": "execute_result"
    }
   ],
   "source": [
    "\"\"\"   04.   \"\"\"\n",
    "L1 = [1,2,3,4,5]\n",
    "L2 = [5,6,7,8,9]\n",
    "def add(a,b):\n",
    "    return a+b\n",
    "list(map(add, L1, L2))"
   ]
  },
  {
   "cell_type": "code",
   "execution_count": 26,
   "id": "d590bd0a-1107-41ff-ba51-f9c045bc7e3b",
   "metadata": {},
   "outputs": [
    {
     "data": {
      "text/plain": [
       "['A', 'N', 'I', 'S', 'H', ' ', 'A', 'K', 'S', 'H', 'I']"
      ]
     },
     "execution_count": 26,
     "metadata": {},
     "output_type": "execute_result"
    }
   ],
   "source": [
    "\"\"\"   04.   \"\"\"\n",
    "s = \"Anish Akshi\"\n",
    "list(map(lambda s : s.upper() , s))"
   ]
  },
  {
   "cell_type": "code",
   "execution_count": 28,
   "id": "65ef27b3-33a3-44ad-a905-e1f9cbcf9ab5",
   "metadata": {},
   "outputs": [
    {
     "data": {
      "text/plain": [
       "15"
      ]
     },
     "execution_count": 28,
     "metadata": {},
     "output_type": "execute_result"
    }
   ],
   "source": [
    "from functools import reduce\n",
    "L = [1,2,3,4,5]\n",
    "reduce(lambda x , y : x+y , L)"
   ]
  },
  {
   "cell_type": "code",
   "execution_count": 15,
   "id": "73cf33e9-1f1d-47be-9dfc-3aaf29643116",
   "metadata": {},
   "outputs": [
    {
     "data": {
      "text/plain": [
       "15511210043330985984000000"
      ]
     },
     "execution_count": 15,
     "metadata": {},
     "output_type": "execute_result"
    }
   ],
   "source": [
    "from functools import reduce\n",
    "LIST = list(range(1,26))\n",
    "reduce(lambda x, y : x * y, LIST) "
   ]
  },
  {
   "cell_type": "code",
   "execution_count": 29,
   "id": "14f67b69-85d2-44bf-beea-e4729959704e",
   "metadata": {},
   "outputs": [
    {
     "data": {
      "text/plain": [
       "[2, 4]"
      ]
     },
     "execution_count": 29,
     "metadata": {},
     "output_type": "execute_result"
    }
   ],
   "source": [
    "\"\"\"   .FILTER.   \"\"\"\n",
    "L1=[1,2,3,4,5]\n",
    "list(filter(lambda x : x % 2 == 0, L1))"
   ]
  },
  {
   "cell_type": "code",
   "execution_count": 30,
   "id": "bfde7fdd-c12d-4535-91b1-d0a9b108e654",
   "metadata": {},
   "outputs": [
    {
     "data": {
      "text/plain": [
       "['Anish', 'Akshi', 'Vikash']"
      ]
     },
     "execution_count": 30,
     "metadata": {},
     "output_type": "execute_result"
    }
   ],
   "source": [
    "L=[\"Anish\", \"Akshi\", \"Vikash\", \"Ram\", \"Boys\"]\n",
    "list(filter(lambda x : len(x) >=5 , L))"
   ]
  },
  {
   "cell_type": "code",
   "execution_count": 23,
   "id": "93d4dbe2-180e-451f-bc50-a2b90710a25f",
   "metadata": {},
   "outputs": [
    {
     "data": {
      "text/plain": [
       "[6, 60, 90, 120]"
      ]
     },
     "execution_count": 23,
     "metadata": {},
     "output_type": "execute_result"
    }
   ],
   "source": [
    "List = [2, 3, 6, 9, 27, 60, 90, 120, 55, 46]\n",
    "list(filter(lambda x : x % 2 == 0 and x % 3 == 0, List))"
   ]
  },
  {
   "cell_type": "code",
   "execution_count": 25,
   "id": "87bb7553-a063-4685-afca-61dd49fc8b90",
   "metadata": {},
   "outputs": [
    {
     "data": {
      "text/plain": [
       "['php', 'aba', 'radar', 'level']"
      ]
     },
     "execution_count": 25,
     "metadata": {},
     "output_type": "execute_result"
    }
   ],
   "source": [
    "\"\"\".PALINDROMES.\"\"\"\n",
    "#Write a python program to find palindromes in the given list of strings using lambda and filter function.\n",
    "List = ['python', 'php', 'aba', 'radar', 'level']\n",
    "list(filter(lambda x: (x == \"\".join(reversed(x))), List)) "
   ]
  },
  {
   "cell_type": "code",
   "execution_count": null,
   "id": "8b8c0769-6815-4aff-bbec-78fddb28be9b",
   "metadata": {},
   "outputs": [],
   "source": []
  },
  {
   "cell_type": "raw",
   "id": "a516a8fa-bee3-4829-9c60-35304a210bdd",
   "metadata": {},
   "source": []
  },
  {
   "cell_type": "code",
   "execution_count": 3,
   "id": "beea4cc7-8a0f-4b5a-9564-490f12a80bd7",
   "metadata": {},
   "outputs": [
    {
     "name": "stdout",
     "output_type": "stream",
     "text": [
      "0\n",
      "1\n",
      "1\n",
      "2\n",
      "3\n",
      "5\n",
      "8\n",
      "13\n",
      "21\n",
      "34\n"
     ]
    }
   ],
   "source": [
    "#Fibonacci of n number using Generator.\n",
    "def fab(n):\n",
    "    a , b = 0 , 1\n",
    "    for i in range(n):\n",
    "        yield a\n",
    "        a, b = b, a+b # (a=b) , (b=a+b)\n",
    "for i in fab(10):\n",
    "    print(i)"
   ]
  },
  {
   "cell_type": "raw",
   "id": "62725bf4-f3f8-4f71-b919-ed3ecf29594b",
   "metadata": {},
   "source": []
  },
  {
   "cell_type": "code",
   "execution_count": 5,
   "id": "79076e91-92f1-436e-898c-723068f5ae54",
   "metadata": {},
   "outputs": [
    {
     "data": {
      "text/plain": [
       "('1', '2', '3', '4', '5', '6', '7', '8', '9', '10')"
      ]
     },
     "execution_count": 5,
     "metadata": {},
     "output_type": "execute_result"
    }
   ],
   "source": [
    "#Convert list in tuple of strings\n",
    "A = [1, 2, 3, 4, 5, 6, 7, 8, 9, 10]\n",
    "tuple(map(str, A))"
   ]
  },
  {
   "cell_type": "code",
   "execution_count": 1,
   "id": "fae9e940-d8c2-4095-bf63-68ba9fe5251d",
   "metadata": {},
   "outputs": [
    {
     "name": "stdout",
     "output_type": "stream",
     "text": [
      "[1, 2, 3, 4, 5, 6, 7, 8, 9, 10, 11, 12, 13, 14, 15, 16, 17, 18, 19, 20, 21, 22, 23, 24, 25]\n"
     ]
    }
   ],
   "source": [
    "#List of range\n",
    "LIST = list(range(1,26))\n",
    "print(LIST)"
   ]
  },
  {
   "cell_type": "code",
   "execution_count": 3,
   "id": "7ac603d8-48e0-40e8-bbbd-1d06978df28d",
   "metadata": {},
   "outputs": [
    {
     "name": "stdin",
     "output_type": "stream",
     "text": [
      "Enter N: 20\n"
     ]
    },
    {
     "name": "stdout",
     "output_type": "stream",
     "text": [
      "First 20 Prime numbers are:2 3 5 7 11 13 17 19 23 29 31 37 41 43 47 53 59 61 67 71\n"
     ]
    }
   ],
   "source": [
    "\"\"\"  .1ST N PRIME NUMBER.  \"\"\"\n",
    "def Prime(n):  \n",
    "    for i in range(2, n // 2 + 1):  \n",
    "        if (n % i == 0):  \n",
    "            return(0)  \n",
    "    return(1)  \n",
    "  \n",
    "N = int(input(\"Enter N:\"))  \n",
    "i = 2 \n",
    "List = []\n",
    "while (1):  \n",
    "    if (Prime(i)):  \n",
    "        List.append (i) \n",
    "        if (len(List) == N):\n",
    "            break\n",
    "    i += 1 \n",
    "print(\"First \" + str(N) + \" Prime numbers are:\", end = \"\") \n",
    "print(*List) \n"
   ]
  },
  {
   "cell_type": "code",
   "execution_count": null,
   "id": "548d8741-b5a1-4ff9-8540-4abdc0de23d5",
   "metadata": {},
   "outputs": [],
   "source": []
  }
 ],
 "metadata": {
  "kernelspec": {
   "display_name": "Python 3 (ipykernel)",
   "language": "python",
   "name": "python3"
  },
  "language_info": {
   "codemirror_mode": {
    "name": "ipython",
    "version": 3
   },
   "file_extension": ".py",
   "mimetype": "text/x-python",
   "name": "python",
   "nbconvert_exporter": "python",
   "pygments_lexer": "ipython3",
   "version": "3.10.8"
  }
 },
 "nbformat": 4,
 "nbformat_minor": 5
}
