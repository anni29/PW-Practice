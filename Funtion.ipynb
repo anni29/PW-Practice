{
 "cells": [
  {
   "cell_type": "code",
   "execution_count": 17,
   "id": "94455150-211e-4366-b697-63cf656f5325",
   "metadata": {},
   "outputs": [
    {
     "data": {
      "text/plain": [
       "(1, 2, 3, 4, 5, 'Anish', 'Akshi', [11, 22, 33, 44, 55])"
      ]
     },
     "execution_count": 17,
     "metadata": {},
     "output_type": "execute_result"
    }
   ],
   "source": [
    "l1 = [2, 4, 6, 8, 10, 12, 14, 16, 18, 20]"
   ]
  },
  {
   "cell_type": "code",
   "execution_count": 76,
   "id": "7f872942-10e5-4813-abd5-3c4848aa44dc",
   "metadata": {},
   "outputs": [
    {
     "data": {
      "text/plain": [
       "{'a': [1, 2, 3, 4, 5], 'b': 'Anish', 'c': 'Akshi'}"
      ]
     },
     "execution_count": 76,
     "metadata": {},
     "output_type": "execute_result"
    }
   ],
   "source": [
    "#Program:\n",
    "def KeywordArguments(**kwargs):\n",
    "    return kwargs\n",
    "KeywordArguments(a = [1, 2, 3, 4, 5] , b = \"Anish\", c = \"Akshi\")"
   ]
  },
  {
   "cell_type": "code",
   "execution_count": 85,
   "id": "c167dde6-f589-4bc8-884b-6964c721516b",
   "metadata": {},
   "outputs": [
    {
     "name": "stdout",
     "output_type": "stream",
     "text": [
      "ITER\n",
      "2\n",
      "4\n",
      "6\n",
      "8\n",
      "10\n"
     ]
    }
   ],
   "source": [
    "l1 = [2, 4, 6, 8, 10,12, 14, 16, 18, 20]\n",
    "l1_iter = iter(l1)\n",
    "print (\"ITER\")\n",
    "for index, item in enumerate(l1_iter):\n",
    "    print (item)\n",
    "    if index == 4:\n",
    "        break\n"
   ]
  },
  {
   "cell_type": "code",
   "execution_count": 86,
   "id": "47802e87-086e-48cb-b98c-8ed19510df8d",
   "metadata": {},
   "outputs": [
    {
     "name": "stdout",
     "output_type": "stream",
     "text": [
      "NEXT\n",
      "2\n",
      "4\n",
      "6\n",
      "8\n",
      "10\n"
     ]
    }
   ],
   "source": [
    "l1 = [2, 4, 6, 8, 10, 12, 14, 16, 18, 20]\n",
    "l1_iter = iter(l1)\n",
    "print(\"NEXT\")\n",
    "print(next(l1_iter))\n",
    "print(next(l1_iter))\n",
    "print(next(l1_iter))\n",
    "print(next(l1_iter))\n",
    "print(next(l1_iter))\n"
   ]
  },
  {
   "cell_type": "code",
   "execution_count": 92,
   "id": "1e9fff7f-3b42-40e6-a5cb-bf3d9b8fc2a4",
   "metadata": {},
   "outputs": [],
   "source": [
    "def simple():  \n",
    "    for i in range(10):\n",
    "        if(i%2==0):  \n",
    "            yield i  \n",
    "    for i in simple():  \n",
    "            print(i)     "
   ]
  },
  {
   "cell_type": "code",
   "execution_count": 101,
   "id": "33aad3f5-8fe0-482f-a66b-2e82ea27e339",
   "metadata": {},
   "outputs": [
    {
     "name": "stdout",
     "output_type": "stream",
     "text": [
      "0\n",
      "1\n",
      "2\n",
      "3\n",
      "4\n",
      "5\n"
     ]
    }
   ],
   "source": [
    "def my_generator(n):\n",
    "\n",
    "    # initialize counter\n",
    "    value = 0\n",
    "\n",
    "    # loop until counter is less than n\n",
    "    while value <= n:\n",
    "\n",
    "        # produce the current value of the counter\n",
    "        yield value\n",
    "\n",
    "        # increment the counter\n",
    "        value += 1\n",
    "\n",
    "# iterate over the generator object produced by my_generator\n",
    "for value in my_generator(5):\n",
    "\n",
    "    # print each value produced by generator\n",
    "    print(value)"
   ]
  },
  {
   "cell_type": "code",
   "execution_count": 1,
   "id": "f8adf11a-362f-40bb-8c86-8802502f2b0a",
   "metadata": {},
   "outputs": [
    {
     "name": "stdin",
     "output_type": "stream",
     "text": [
      "Enter the number 10\n"
     ]
    },
    {
     "name": "stdout",
     "output_type": "stream",
     "text": [
      "0\n",
      "1\n",
      "1\n",
      "2\n",
      "3\n",
      "5\n",
      "8\n",
      "13\n",
      "21\n",
      "34\n"
     ]
    }
   ],
   "source": [
    "n = int(input(\"Enter the number\"))\n",
    "a , b = 0 , 1\n",
    "counter = 0\n",
    "while counter < n:\n",
    "    print(a)\n",
    "    c = a + b\n",
    "    a = b\n",
    "    b = c\n",
    "    counter = counter + 1"
   ]
  },
  {
   "cell_type": "code",
   "execution_count": 1,
   "id": "38426b85-4489-41d3-b2b9-d34f960b52ab",
   "metadata": {},
   "outputs": [
    {
     "name": "stdout",
     "output_type": "stream",
     "text": [
      "['p', 'w', 's', 'k', 'i', 'l', 'l', 's']\n"
     ]
    }
   ],
   "source": [
    "A = []\n",
    "for char in 'pwskills':\n",
    "    A.append(char)\n",
    "print(A)"
   ]
  },
  {
   "cell_type": "code",
   "execution_count": 3,
   "id": "fa9b24ca-d54f-49e8-9f77-c50b58980f4b",
   "metadata": {},
   "outputs": [
    {
     "name": "stdin",
     "output_type": "stream",
     "text": [
      "Enter a number: 138\n"
     ]
    },
    {
     "name": "stdout",
     "output_type": "stream",
     "text": [
      "Not a palindrome!\n"
     ]
    }
   ],
   "source": [
    "num = int(input(\"Enter a number:\"))\n",
    "temp = num\n",
    "rev = 0\n",
    "while (num>0):\n",
    "    dig = num % 10\n",
    "    rev = rev * 10 + dig\n",
    "    num = num // 10\n",
    "if (temp == rev):\n",
    "    print(\"The number is palindrome!\")\n",
    "else:\n",
    "    print(\"Not a palindrome!\")"
   ]
  },
  {
   "cell_type": "code",
   "execution_count": null,
   "id": "7549f6ad-14a4-43e8-91a5-e3420beb11ae",
   "metadata": {},
   "outputs": [],
   "source": []
  },
  {
   "cell_type": "code",
   "execution_count": null,
   "id": "f2b80cbc-c11f-4579-9f13-2eee724e18d2",
   "metadata": {},
   "outputs": [],
   "source": []
  }
 ],
 "metadata": {
  "kernelspec": {
   "display_name": "Python 3 (ipykernel)",
   "language": "python",
   "name": "python3"
  },
  "language_info": {
   "codemirror_mode": {
    "name": "ipython",
    "version": 3
   },
   "file_extension": ".py",
   "mimetype": "text/x-python",
   "name": "python",
   "nbconvert_exporter": "python",
   "pygments_lexer": "ipython3",
   "version": "3.10.8"
  }
 },
 "nbformat": 4,
 "nbformat_minor": 5
}
