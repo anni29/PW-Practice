{
 "cells": [
  {
   "cell_type": "code",
   "execution_count": 1,
   "id": "bcb35951-2c32-4086-b203-57533a5a8db3",
   "metadata": {},
   "outputs": [
    {
     "name": "stdout",
     "output_type": "stream",
     "text": [
      "This is start of my function.\n",
      "13\n",
      "this is end of my function.\n"
     ]
    }
   ],
   "source": [
    "\"\"\"   .DECORATOR.   \"\"\"\n",
    "def deco(func):\n",
    "    def inner_dec():\n",
    "        print(\"This is start of my function.\")\n",
    "        func()\n",
    "        print(\"this is end of my function.\")\n",
    "    return inner_dec()\n",
    "\n",
    "@deco\n",
    "def test1():\n",
    "    print(6+7)"
   ]
  },
  {
   "cell_type": "code",
   "execution_count": 2,
   "id": "6bf33a50-2553-415e-9a19-5047394263de",
   "metadata": {},
   "outputs": [
    {
     "name": "stdout",
     "output_type": "stream",
     "text": [
      "This is start of my function.\n",
      "Anish Akshi\n",
      "this is end of my function.\n"
     ]
    }
   ],
   "source": [
    "@deco\n",
    "def test2():\n",
    "    print(\"Anish Akshi\")"
   ]
  },
  {
   "cell_type": "raw",
   "id": "1513d044-fecc-448c-b11e-4527e8b3bd12",
   "metadata": {},
   "source": []
  },
  {
   "cell_type": "code",
   "execution_count": 1,
   "id": "48a9dfab-40f2-418e-ac33-455e9a6ab36d",
   "metadata": {},
   "outputs": [],
   "source": [
    "import time\n",
    "\n",
    "def timer(func):\n",
    "    def inner_timer_test():\n",
    "        start = time.time()\n",
    "        func()\n",
    "        end = time.time()\n",
    "        print(end - start)\n",
    "    return inner_timer_test\n"
   ]
  },
  {
   "cell_type": "code",
   "execution_count": 2,
   "id": "ef744879-5d8f-4127-817a-dfb3aa5cf93b",
   "metadata": {},
   "outputs": [
    {
     "name": "stdout",
     "output_type": "stream",
     "text": [
      "68\n"
     ]
    }
   ],
   "source": [
    "def test2():\n",
    "    print(23+45)\n",
    "    \n",
    "test2()"
   ]
  },
  {
   "cell_type": "code",
   "execution_count": 3,
   "id": "d2a6e70e-984d-4f90-b4f9-11ebfa313c3a",
   "metadata": {},
   "outputs": [
    {
     "name": "stdout",
     "output_type": "stream",
     "text": [
      "279\n",
      "4.8160552978515625e-05\n"
     ]
    }
   ],
   "source": [
    "@timer\n",
    "def test2():\n",
    "    print(234+45)\n",
    "    \n",
    "test2()"
   ]
  },
  {
   "cell_type": "code",
   "execution_count": 7,
   "id": "afc25c5a-a5e8-4df3-9256-466607f63204",
   "metadata": {},
   "outputs": [
    {
     "name": "stdout",
     "output_type": "stream",
     "text": [
      "2.0566606521606445\n"
     ]
    }
   ],
   "source": [
    "@timer\n",
    "def test():\n",
    "    for i in range(100000000):\n",
    "        pass\n",
    "\n",
    "test()"
   ]
  },
  {
   "cell_type": "raw",
   "id": "d754252b-4e2a-4240-a0e3-2ea0a6af9474",
   "metadata": {},
   "source": []
  },
  {
   "cell_type": "code",
   "execution_count": 14,
   "id": "cb7d9024-d53f-481b-aee9-2d480b0b04a7",
   "metadata": {},
   "outputs": [
    {
     "name": "stdout",
     "output_type": "stream",
     "text": [
      "Anish Akshi , akshinaish2908@gamil.com\n"
     ]
    }
   ],
   "source": [
    "\"\"\"   .CLASS METHOD.   \"\"\"\n",
    "class CSE():\n",
    "    \n",
    "    def __init__(self, name , email):\n",
    "        self.name = name\n",
    "        self.email = email\n",
    "        \n",
    "    def student_detail(self):\n",
    "        print(self.name, \",\", self.email)\n",
    "         \n",
    "Anish = CSE(\"Anish Akshi\", \"akshinaish2908@gamil.com\")\n",
    "\n",
    "Anish.student_detail()"
   ]
  },
  {
   "cell_type": "raw",
   "id": "7237903b-ab9f-43ed-a5a1-9128ffa550df",
   "metadata": {},
   "source": []
  },
  {
   "cell_type": "code",
   "execution_count": 23,
   "id": "7724b5b9-17f7-428f-8d1b-c986d1b6dcc8",
   "metadata": {},
   "outputs": [
    {
     "name": "stdout",
     "output_type": "stream",
     "text": [
      "Anish Akshi , anishaksi2908@gmial.com\n"
     ]
    }
   ],
   "source": [
    "class CSE1():\n",
    "    \n",
    "    def __init__(self, name , email):\n",
    "        self.name = name\n",
    "        self.email = email\n",
    "        \n",
    "    @classmethod\n",
    "    def details(cls, name,email):\n",
    "        return cls(name, email)\n",
    "    \n",
    "    def student_detail(self):\n",
    "        print(self.name, \",\", self.email)\n",
    "         \n",
    "Anish = CSE1.details(\"Anish Akshi\", \"anishaksi2908@gmial.com\")\n",
    "\n",
    "Anish.student_detail()"
   ]
  },
  {
   "cell_type": "raw",
   "id": "d1314afa-6ed1-4a42-a624-937faf281390",
   "metadata": {},
   "source": []
  },
  {
   "cell_type": "code",
   "execution_count": 51,
   "id": "1a0b533b-4f03-466d-9757-b5bb13a94a2c",
   "metadata": {},
   "outputs": [],
   "source": [
    "class CSE2():\n",
    "    \n",
    "    phone_number = 7903962977\n",
    "    \n",
    "    def __init__(self, name , email):\n",
    "        self.name = name\n",
    "        self.email = email\n",
    "        \n",
    "    @classmethod\n",
    "    def change_number(cls, phone):\n",
    "        CSE2.phone_number = phone\n",
    "                \n",
    "    @classmethod\n",
    "    def details(cls, name,email):\n",
    "        return cls(name, email)\n",
    "    \n",
    "    def student_detail(self):\n",
    "        print(self.name, \",\", self.email, \",\", CSE2.phone_number)\n",
    "   \n",
    "# CSE2.phone_number"
   ]
  },
  {
   "cell_type": "code",
   "execution_count": 52,
   "id": "ff883d89-51a3-4c6d-aa7b-a21b00797688",
   "metadata": {},
   "outputs": [],
   "source": [
    "CSE2.change_number(9125638278)"
   ]
  },
  {
   "cell_type": "code",
   "execution_count": 53,
   "id": "376909b1-62c1-4cbc-b736-ef3b3efd8415",
   "metadata": {},
   "outputs": [
    {
     "data": {
      "text/plain": [
       "9125638278"
      ]
     },
     "execution_count": 53,
     "metadata": {},
     "output_type": "execute_result"
    }
   ],
   "source": [
    "CSE2.phone_number"
   ]
  },
  {
   "cell_type": "code",
   "execution_count": 54,
   "id": "0a84e23e-2415-40e1-8a2b-b0b1adb63566",
   "metadata": {},
   "outputs": [
    {
     "name": "stdout",
     "output_type": "stream",
     "text": [
      "Anish Akshi , anni2908@gmail.com , 9125638278\n"
     ]
    }
   ],
   "source": [
    "Anish = CSE2(\"Anish Akshi\", \"anni2908@gmail.com\")\n",
    "Anish.student_detail()"
   ]
  },
  {
   "cell_type": "code",
   "execution_count": 55,
   "id": "2ac967c3-31eb-4eae-b80b-345d550a945f",
   "metadata": {},
   "outputs": [
    {
     "name": "stdout",
     "output_type": "stream",
     "text": [
      "Rahul , rahulkr1652@gmail.com , 9125638278\n"
     ]
    }
   ],
   "source": [
    "Rahul = CSE2.details(\"Rahul\", \"rahulkr1652@gmail.com\")\n",
    "Rahul.student_detail()"
   ]
  },
  {
   "cell_type": "raw",
   "id": "877e3323-ad59-4dbb-82e0-38451359461c",
   "metadata": {},
   "source": []
  },
  {
   "cell_type": "code",
   "execution_count": 63,
   "id": "2a4ad01b-9642-49ab-8a65-a2d522af8c38",
   "metadata": {},
   "outputs": [
    {
     "name": "stdout",
     "output_type": "stream",
     "text": [
      "Anish Akshi , anni2908@gmail.com , 7903962977\n",
      "Course Name is: Software Engineering\n",
      "Mentor of course is: Prachi Ma'am\n"
     ]
    }
   ],
   "source": [
    "class CSE3():\n",
    "    \n",
    "    phone_number = 7903962977\n",
    "    \n",
    "    def __init__(self, name , email):\n",
    "        self.name = name\n",
    "        self.email = email\n",
    "        \n",
    "    @classmethod\n",
    "    def change_number(cls, phone):\n",
    "        CSE3.phone_number = phone\n",
    "                \n",
    "    @classmethod\n",
    "    def details(cls, name,email):\n",
    "        return cls(name, email)\n",
    "    \n",
    "    def student_detail(self):\n",
    "        print(self.name, \",\", self.email, \",\", CSE3.phone_number)\n",
    "        \n",
    "Anish = CSE3(\"Anish Akshi\", \"anni2908@gmail.com\")\n",
    "Anish.student_detail()        \n",
    "\n",
    "\n",
    "def course_detail(cls, course_name):\n",
    "    print(\"Course Name is:\",course_name)\n",
    "    \n",
    "CSE3.course_detail = classmethod(course_detail)\n",
    "CSE3.course_detail(\"Software Engineering\")\n",
    "        \n",
    "def mentor(cls, mentor):\n",
    "    print(\"Mentor of course is:\", mentor)\n",
    "    \n",
    "CSE3.mentor = classmethod(mentor)\n",
    "CSE3.mentor(\"Prachi Ma'am\")"
   ]
  },
  {
   "cell_type": "raw",
   "id": "728e3575-30e5-48f4-ab26-10466f5905f9",
   "metadata": {},
   "source": []
  },
  {
   "cell_type": "code",
   "execution_count": 74,
   "id": "ef888b15-85d0-4f50-a104-42fb6b2b5e9b",
   "metadata": {},
   "outputs": [],
   "source": [
    "class CSE4():\n",
    "    \n",
    "    phone_number = 7903962977\n",
    "    \n",
    "    def __init__(self, name , email):\n",
    "        self.name = name\n",
    "        self.email = email\n",
    "        \n",
    "    @classmethod\n",
    "    def change_number(cls, phone):\n",
    "        CSE4.phone_number = phone\n",
    "                \n",
    "    @classmethod\n",
    "    def details(cls, name,email):\n",
    "        return cls(name, email)\n",
    "    \n",
    "    def student_detail(self):\n",
    "        print(self.name, \",\", self.email, \",\", CSE4.phone_number)\n",
    "        \n",
    "del CSE4.change_number"
   ]
  },
  {
   "cell_type": "code",
   "execution_count": 75,
   "id": "b2beac89-ea75-4a5a-a05c-8e9d973b3736",
   "metadata": {},
   "outputs": [
    {
     "name": "stdout",
     "output_type": "stream",
     "text": [
      "Anish Akshi , anni2908@gmail.com , 7903962977\n"
     ]
    }
   ],
   "source": [
    "Anish = CSE4(\"Anish Akshi\", \"anni2908@gmail.com\")\n",
    "Anish.student_detail()"
   ]
  },
  {
   "cell_type": "code",
   "execution_count": 76,
   "id": "ae089fa1-2582-41b2-8d78-09e6e93bdd50",
   "metadata": {},
   "outputs": [],
   "source": [
    "delattr(CSE4,\"details\")\n",
    "delattr(CSE4,\"student_detail\")"
   ]
  },
  {
   "cell_type": "code",
   "execution_count": 77,
   "id": "dd17a5f7-6173-4d32-937f-9897604e9d08",
   "metadata": {},
   "outputs": [
    {
     "ename": "AttributeError",
     "evalue": "'CSE4' object has no attribute 'student_detail'",
     "output_type": "error",
     "traceback": [
      "\u001b[0;31m---------------------------------------------------------------------------\u001b[0m",
      "\u001b[0;31mAttributeError\u001b[0m                            Traceback (most recent call last)",
      "Cell \u001b[0;32mIn[77], line 1\u001b[0m\n\u001b[0;32m----> 1\u001b[0m \u001b[43mAnish\u001b[49m\u001b[38;5;241;43m.\u001b[39;49m\u001b[43mstudent_detail\u001b[49m()\n",
      "\u001b[0;31mAttributeError\u001b[0m: 'CSE4' object has no attribute 'student_detail'"
     ]
    }
   ],
   "source": [
    "Anish.student_detail()"
   ]
  },
  {
   "cell_type": "raw",
   "id": "b9c7dd73-5082-46d4-bedf-ee2cda8d6a7a",
   "metadata": {},
   "source": []
  },
  {
   "cell_type": "code",
   "execution_count": 93,
   "id": "a7299ae5-93f9-48cb-b0f5-12047f1cf3dc",
   "metadata": {},
   "outputs": [
    {
     "name": "stdout",
     "output_type": "stream",
     "text": [
      "Anish Akshi , akshianish75gmail.gmail , 7903962977\n"
     ]
    }
   ],
   "source": [
    "\"\"\"   .STATIC METHOD.   \"\"\"\n",
    "class pwskills:\n",
    "    \n",
    "    def student_details(self, name, email, phone):\n",
    "        print(name,\",\", email,\",\", phone)\n",
    "    \n",
    "Anish = pwskills()\n",
    "Anish.student_details(\"Anish Akshi\", \"akshianish75gmail.gmail\", 7903962977)"
   ]
  },
  {
   "cell_type": "raw",
   "id": "e5d02e1c-cacf-4861-a66b-ef861fba1b04",
   "metadata": {},
   "source": []
  },
  {
   "cell_type": "code",
   "execution_count": 1,
   "id": "c293ed65-71a2-415b-87d6-5ce23a0a6db6",
   "metadata": {},
   "outputs": [
    {
     "name": "stdout",
     "output_type": "stream",
     "text": [
      "['Anish', 'Rahul']\n"
     ]
    }
   ],
   "source": [
    "class pwskills1:\n",
    "    \n",
    "    def student_details(self, name, email, phone):\n",
    "        print(name,\",\", email,\",\", phone)\n",
    "        \n",
    "    @staticmethod\n",
    "    def mentor_class(list_mentor):\n",
    "        print(list_mentor)\n",
    "        \n",
    "pwskills1.mentor_class([\"Anish\", \"Rahul\"])"
   ]
  },
  {
   "cell_type": "code",
   "execution_count": 10,
   "id": "6209495a-d51e-48a0-a302-117ce4ccb0ac",
   "metadata": {},
   "outputs": [
    {
     "name": "stdout",
     "output_type": "stream",
     "text": [
      "['anni99@gamil.com', 'ansh01@gmail.com']\n",
      "['Anni', 'Ansh']\n"
     ]
    }
   ],
   "source": [
    "class pwskills2:\n",
    "    \n",
    "    def student_details(self, name, email, phone):\n",
    "        print(name,\",\", email,\",\", phone)\n",
    "        \n",
    "    @staticmethod\n",
    "    def mentor_mail(mail):\n",
    "        print(mail)\n",
    "        \n",
    "    @staticmethod\n",
    "    def mentor_class(list_mentor):\n",
    "        pwskills2.mentor_mail([\"anni99@gamil.com\", \"ansh01@gmail.com\"])\n",
    "        print(list_mentor)\n",
    "        \n",
    "    @classmethod\n",
    "    def class_name(cls):\n",
    "        cls.mentor_class([\"Anni\", \"Ansh\"])\n",
    "        \n",
    "    def mentor(self,mentor_list):\n",
    "        print(mentor_list)\n",
    "        \n",
    "#pwskills2.class_name()\n",
    "pwskills2.mentor_class([\"Anni\", \"Ansh\"])"
   ]
  },
  {
   "cell_type": "raw",
   "id": "78778003-d25a-42f5-b675-1a142fd9b8c2",
   "metadata": {},
   "source": []
  },
  {
   "cell_type": "code",
   "execution_count": 12,
   "id": "8bfbd348-3276-4b06-b051-6448c80f21c7",
   "metadata": {},
   "outputs": [
    {
     "data": {
      "text/plain": [
       "['__abs__',\n",
       " '__add__',\n",
       " '__and__',\n",
       " '__bool__',\n",
       " '__ceil__',\n",
       " '__class__',\n",
       " '__delattr__',\n",
       " '__dir__',\n",
       " '__divmod__',\n",
       " '__doc__',\n",
       " '__eq__',\n",
       " '__float__',\n",
       " '__floor__',\n",
       " '__floordiv__',\n",
       " '__format__',\n",
       " '__ge__',\n",
       " '__getattribute__',\n",
       " '__getnewargs__',\n",
       " '__gt__',\n",
       " '__hash__',\n",
       " '__index__',\n",
       " '__init__',\n",
       " '__init_subclass__',\n",
       " '__int__',\n",
       " '__invert__',\n",
       " '__le__',\n",
       " '__lshift__',\n",
       " '__lt__',\n",
       " '__mod__',\n",
       " '__mul__',\n",
       " '__ne__',\n",
       " '__neg__',\n",
       " '__new__',\n",
       " '__or__',\n",
       " '__pos__',\n",
       " '__pow__',\n",
       " '__radd__',\n",
       " '__rand__',\n",
       " '__rdivmod__',\n",
       " '__reduce__',\n",
       " '__reduce_ex__',\n",
       " '__repr__',\n",
       " '__rfloordiv__',\n",
       " '__rlshift__',\n",
       " '__rmod__',\n",
       " '__rmul__',\n",
       " '__ror__',\n",
       " '__round__',\n",
       " '__rpow__',\n",
       " '__rrshift__',\n",
       " '__rshift__',\n",
       " '__rsub__',\n",
       " '__rtruediv__',\n",
       " '__rxor__',\n",
       " '__setattr__',\n",
       " '__sizeof__',\n",
       " '__str__',\n",
       " '__sub__',\n",
       " '__subclasshook__',\n",
       " '__truediv__',\n",
       " '__trunc__',\n",
       " '__xor__',\n",
       " 'as_integer_ratio',\n",
       " 'bit_count',\n",
       " 'bit_length',\n",
       " 'conjugate',\n",
       " 'denominator',\n",
       " 'from_bytes',\n",
       " 'imag',\n",
       " 'numerator',\n",
       " 'real',\n",
       " 'to_bytes']"
      ]
     },
     "execution_count": 12,
     "metadata": {},
     "output_type": "execute_result"
    }
   ],
   "source": [
    "\"\"\"   .MAGIC/DUNDER.   \"\"\"\n",
    "dir(int)"
   ]
  },
  {
   "cell_type": "code",
   "execution_count": 13,
   "id": "086859ca-4eeb-4986-952b-30553a5091e7",
   "metadata": {},
   "outputs": [
    {
     "data": {
      "text/plain": [
       "['__add__',\n",
       " '__class__',\n",
       " '__contains__',\n",
       " '__delattr__',\n",
       " '__dir__',\n",
       " '__doc__',\n",
       " '__eq__',\n",
       " '__format__',\n",
       " '__ge__',\n",
       " '__getattribute__',\n",
       " '__getitem__',\n",
       " '__getnewargs__',\n",
       " '__gt__',\n",
       " '__hash__',\n",
       " '__init__',\n",
       " '__init_subclass__',\n",
       " '__iter__',\n",
       " '__le__',\n",
       " '__len__',\n",
       " '__lt__',\n",
       " '__mod__',\n",
       " '__mul__',\n",
       " '__ne__',\n",
       " '__new__',\n",
       " '__reduce__',\n",
       " '__reduce_ex__',\n",
       " '__repr__',\n",
       " '__rmod__',\n",
       " '__rmul__',\n",
       " '__setattr__',\n",
       " '__sizeof__',\n",
       " '__str__',\n",
       " '__subclasshook__',\n",
       " 'capitalize',\n",
       " 'casefold',\n",
       " 'center',\n",
       " 'count',\n",
       " 'encode',\n",
       " 'endswith',\n",
       " 'expandtabs',\n",
       " 'find',\n",
       " 'format',\n",
       " 'format_map',\n",
       " 'index',\n",
       " 'isalnum',\n",
       " 'isalpha',\n",
       " 'isascii',\n",
       " 'isdecimal',\n",
       " 'isdigit',\n",
       " 'isidentifier',\n",
       " 'islower',\n",
       " 'isnumeric',\n",
       " 'isprintable',\n",
       " 'isspace',\n",
       " 'istitle',\n",
       " 'isupper',\n",
       " 'join',\n",
       " 'ljust',\n",
       " 'lower',\n",
       " 'lstrip',\n",
       " 'maketrans',\n",
       " 'partition',\n",
       " 'removeprefix',\n",
       " 'removesuffix',\n",
       " 'replace',\n",
       " 'rfind',\n",
       " 'rindex',\n",
       " 'rjust',\n",
       " 'rpartition',\n",
       " 'rsplit',\n",
       " 'rstrip',\n",
       " 'split',\n",
       " 'splitlines',\n",
       " 'startswith',\n",
       " 'strip',\n",
       " 'swapcase',\n",
       " 'title',\n",
       " 'translate',\n",
       " 'upper',\n",
       " 'zfill']"
      ]
     },
     "execution_count": 13,
     "metadata": {},
     "output_type": "execute_result"
    }
   ],
   "source": [
    "dir(str)"
   ]
  },
  {
   "cell_type": "code",
   "execution_count": 14,
   "id": "9adad3a7-53c3-4c39-a9f6-ea172e8c6f87",
   "metadata": {},
   "outputs": [
    {
     "data": {
      "text/plain": [
       "105"
      ]
     },
     "execution_count": 14,
     "metadata": {},
     "output_type": "execute_result"
    }
   ],
   "source": [
    "a = 100\n",
    "a+5"
   ]
  },
  {
   "cell_type": "code",
   "execution_count": 15,
   "id": "88e26047-474d-494b-94a3-b13ccf1c0636",
   "metadata": {},
   "outputs": [
    {
     "data": {
      "text/plain": [
       "105"
      ]
     },
     "execution_count": 15,
     "metadata": {},
     "output_type": "execute_result"
    }
   ],
   "source": [
    "a.__add__(5)"
   ]
  },
  {
   "cell_type": "code",
   "execution_count": 22,
   "id": "c427b50d-f185-4483-9370-f7d0c22ca2d7",
   "metadata": {},
   "outputs": [
    {
     "name": "stdout",
     "output_type": "stream",
     "text": [
      "This is my new.\n"
     ]
    }
   ],
   "source": [
    "class pwskills:\n",
    "    \n",
    "    def __new__(cls):\n",
    "        print(\"This is my new.\")\n",
    "    def __init__(self):\n",
    "        print(\"This is my init.\")\n",
    "        \n",
    "        self.mobile_number = 7903962977\n",
    "        \n",
    "pw = pwskills()"
   ]
  },
  {
   "cell_type": "code",
   "execution_count": 25,
   "id": "ba4d510c-8f83-4575-8181-9a90ce797809",
   "metadata": {},
   "outputs": [
    {
     "data": {
      "text/plain": [
       "<__main__.pwskills1 at 0x7fea2170c220>"
      ]
     },
     "execution_count": 25,
     "metadata": {},
     "output_type": "execute_result"
    }
   ],
   "source": [
    "class pwskills1:\n",
    "    \n",
    "    def __init__(self):\n",
    "        \n",
    "        self.mobile_number = 7903962977\n",
    "        \n",
    "pw1 = pwskills1()\n",
    "pw1"
   ]
  },
  {
   "cell_type": "code",
   "execution_count": 33,
   "id": "5369cdfa-99f9-4c74-bc62-35bd040a30c4",
   "metadata": {},
   "outputs": [
    {
     "name": "stdout",
     "output_type": "stream",
     "text": [
      "This is my Magic call of str .\n"
     ]
    }
   ],
   "source": [
    "class pwskills2:\n",
    "    \n",
    "    def __init__(self):\n",
    "        \n",
    "        self.mobile_number = 7903962977\n",
    "        \n",
    "    def __str__(self):\n",
    "        return \"This is my Magic call of str .\"\n",
    "        \n",
    "pw2 = pwskills2()\n",
    "print(pw2)"
   ]
  },
  {
   "cell_type": "raw",
   "id": "48d28869-34d8-4f77-b840-c538cf31a994",
   "metadata": {},
   "source": []
  },
  {
   "cell_type": "code",
   "execution_count": 40,
   "id": "0e4a51d3-8a17-4ca2-afe8-49c66631faa1",
   "metadata": {},
   "outputs": [],
   "source": [
    "\"\"\"   .Property Decorator.   \"\"\"\n",
    "class pwskills:\n",
    "    \n",
    "    def __init__(self, course_name, course_price):\n",
    "        \n",
    "        self.course_name = course_name\n",
    "        self.__course_price = course_price\n",
    "        \n",
    "   \n",
    "pw = pwskills(\"Data Science Master\", 3500)"
   ]
  },
  {
   "cell_type": "code",
   "execution_count": 41,
   "id": "c7d0ef99-5ece-469a-aca7-d301ab5a47f8",
   "metadata": {},
   "outputs": [
    {
     "data": {
      "text/plain": [
       "3500"
      ]
     },
     "execution_count": 41,
     "metadata": {},
     "output_type": "execute_result"
    }
   ],
   "source": [
    "pw._pwskills__course_price"
   ]
  },
  {
   "cell_type": "code",
   "execution_count": 39,
   "id": "04a3b6b2-2222-4cd6-a025-08ef8acc1f1f",
   "metadata": {},
   "outputs": [
    {
     "data": {
      "text/plain": [
       "'Data Science Master'"
      ]
     },
     "execution_count": 39,
     "metadata": {},
     "output_type": "execute_result"
    }
   ],
   "source": [
    "pw.course_name"
   ]
  },
  {
   "cell_type": "code",
   "execution_count": 60,
   "id": "c937dc54-a504-45d8-88f3-fe684a282032",
   "metadata": {},
   "outputs": [],
   "source": [
    "class pwskills1:\n",
    "    \n",
    "    def __init__(self, course_name, course_price):\n",
    "        \n",
    "        self.course_name = course_name\n",
    "        self.__course_price = course_price\n",
    "        \n",
    "    @property\n",
    "    def course_price_access(self):\n",
    "        return self.__course_price \n",
    "        \n",
    "    @course_price_access.setter\n",
    "    def course_price_set(self, price):\n",
    "        if price <= 3500:\n",
    "            pass\n",
    "        else:\n",
    "            self.__course_price = price\n",
    "    \n",
    "pw = pwskills1(\"Data Science Master\", 3500)"
   ]
  },
  {
   "cell_type": "code",
   "execution_count": 61,
   "id": "63b849a3-734f-4ced-a619-136aa5d83f56",
   "metadata": {},
   "outputs": [
    {
     "data": {
      "text/plain": [
       "3500"
      ]
     },
     "execution_count": 61,
     "metadata": {},
     "output_type": "execute_result"
    }
   ],
   "source": [
    "pw.course_price_access"
   ]
  },
  {
   "cell_type": "code",
   "execution_count": 62,
   "id": "b923a51d-cd10-4b66-a515-52f7e9aa3219",
   "metadata": {},
   "outputs": [
    {
     "data": {
      "text/plain": [
       "'Data Science Master'"
      ]
     },
     "execution_count": 62,
     "metadata": {},
     "output_type": "execute_result"
    }
   ],
   "source": [
    "pw.course_name"
   ]
  },
  {
   "cell_type": "code",
   "execution_count": 63,
   "id": "0e252562-9829-426d-bd0d-42b6c916c247",
   "metadata": {},
   "outputs": [],
   "source": [
    "pw.course_price_set = 4500"
   ]
  },
  {
   "cell_type": "code",
   "execution_count": 64,
   "id": "83e018be-46ed-4d78-bbe3-4988d8d982c7",
   "metadata": {},
   "outputs": [
    {
     "data": {
      "text/plain": [
       "4500"
      ]
     },
     "execution_count": 64,
     "metadata": {},
     "output_type": "execute_result"
    }
   ],
   "source": [
    "pw.course_price_access"
   ]
  },
  {
   "cell_type": "raw",
   "id": "9472411d-2900-40b4-ab88-3d94a3f40825",
   "metadata": {},
   "source": []
  },
  {
   "cell_type": "code",
   "execution_count": 65,
   "id": "2bb52a51-3cf4-4dcf-ac54-0c7be01679b1",
   "metadata": {},
   "outputs": [],
   "source": [
    "class pwskills2:\n",
    "    \n",
    "    def __init__(self, course_name, course_price):\n",
    "        \n",
    "        self.course_name = course_name\n",
    "        self.__course_price = course_price\n",
    "        \n",
    "    @property\n",
    "    def course_price_access(self):\n",
    "        return self.__course_price \n",
    "        \n",
    "    @course_price_access.setter\n",
    "    def course_price_set(self, price):\n",
    "        if price <= 3500:\n",
    "            pass\n",
    "        else:\n",
    "            self.__course_price = price\n",
    "            \n",
    "    @course_price_access.deleter\n",
    "    def delete_course_price(self):\n",
    "        del self.__course_price\n",
    "    \n",
    "pw = pwskills2(\"Data Science Master\", 3500)"
   ]
  },
  {
   "cell_type": "code",
   "execution_count": 66,
   "id": "87dee4c4-7706-4235-99cc-6b1f4bad09af",
   "metadata": {},
   "outputs": [
    {
     "data": {
      "text/plain": [
       "3500"
      ]
     },
     "execution_count": 66,
     "metadata": {},
     "output_type": "execute_result"
    }
   ],
   "source": [
    "pw.course_price_access"
   ]
  },
  {
   "cell_type": "code",
   "execution_count": 67,
   "id": "fec26a79-3da2-4b5e-9209-90ff1ca5cb5f",
   "metadata": {},
   "outputs": [],
   "source": [
    "del pw.delete_course_price"
   ]
  },
  {
   "cell_type": "code",
   "execution_count": 68,
   "id": "ddcb55c3-7efc-4c54-b0d5-e604e18951e2",
   "metadata": {},
   "outputs": [
    {
     "ename": "AttributeError",
     "evalue": "'pwskills2' object has no attribute '_pwskills2__course_price'",
     "output_type": "error",
     "traceback": [
      "\u001b[0;31m---------------------------------------------------------------------------\u001b[0m",
      "\u001b[0;31mAttributeError\u001b[0m                            Traceback (most recent call last)",
      "Cell \u001b[0;32mIn[68], line 1\u001b[0m\n\u001b[0;32m----> 1\u001b[0m \u001b[43mpw\u001b[49m\u001b[38;5;241;43m.\u001b[39;49m\u001b[43mcourse_price_access\u001b[49m\n",
      "Cell \u001b[0;32mIn[65], line 10\u001b[0m, in \u001b[0;36mpwskills2.course_price_access\u001b[0;34m(self)\u001b[0m\n\u001b[1;32m      8\u001b[0m \u001b[38;5;129m@property\u001b[39m\n\u001b[1;32m      9\u001b[0m \u001b[38;5;28;01mdef\u001b[39;00m \u001b[38;5;21mcourse_price_access\u001b[39m(\u001b[38;5;28mself\u001b[39m):\n\u001b[0;32m---> 10\u001b[0m     \u001b[38;5;28;01mreturn\u001b[39;00m \u001b[38;5;28;43mself\u001b[39;49m\u001b[38;5;241;43m.\u001b[39;49m\u001b[43m__course_price\u001b[49m\n",
      "\u001b[0;31mAttributeError\u001b[0m: 'pwskills2' object has no attribute '_pwskills2__course_price'"
     ]
    }
   ],
   "source": [
    "pw.course_price_access"
   ]
  },
  {
   "cell_type": "code",
   "execution_count": null,
   "id": "675a41bf-3cb5-4611-a042-5c6e8f97d29a",
   "metadata": {},
   "outputs": [],
   "source": []
  }
 ],
 "metadata": {
  "kernelspec": {
   "display_name": "Python 3 (ipykernel)",
   "language": "python",
   "name": "python3"
  },
  "language_info": {
   "codemirror_mode": {
    "name": "ipython",
    "version": 3
   },
   "file_extension": ".py",
   "mimetype": "text/x-python",
   "name": "python",
   "nbconvert_exporter": "python",
   "pygments_lexer": "ipython3",
   "version": "3.10.8"
  }
 },
 "nbformat": 4,
 "nbformat_minor": 5
}
