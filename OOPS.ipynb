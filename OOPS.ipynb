{
 "cells": [
  {
   "cell_type": "code",
   "execution_count": 3,
   "id": "bb911567-7d0c-469d-a45c-fd39d32aba89",
   "metadata": {},
   "outputs": [
    {
     "name": "stdout",
     "output_type": "stream",
     "text": [
      "Welcome to CSE\n"
     ]
    }
   ],
   "source": [
    "\"\"\".OOPS.\"\"\"\n",
    "\n",
    "class CSE:\n",
    "    def btcse(self):\n",
    "        print(\"Welcome to CSE\")\n",
    "Anish = CSE()\n",
    "Anish.btcse()"
   ]
  },
  {
   "cell_type": "raw",
   "id": "bfe159e6-cbd5-4728-bc17-5c4e72157db6",
   "metadata": {},
   "source": []
  },
  {
   "cell_type": "code",
   "execution_count": 24,
   "id": "6d79ba81-e37c-496b-9750-b570009a6d62",
   "metadata": {},
   "outputs": [
    {
     "data": {
      "text/plain": [
       "(7903962977, 22, 'akshianish2908@gmail.com')"
      ]
     },
     "execution_count": 24,
     "metadata": {},
     "output_type": "execute_result"
    }
   ],
   "source": [
    "class CSE:\n",
    "    def __init__(self, phone_no, student_id, email_id):\n",
    "        self.phone_no = phone_no\n",
    "        self.student_id = student_id\n",
    "        self.email_id = email_id\n",
    "\n",
    "    def return_student_details(self):\n",
    "        return self.phone_no, self.student_id, self.email_id\n",
    "    \n",
    "Anish = CSE(7903962977, 22, \"akshianish2908@gmail.com\")\n",
    "Aman = CSE(9546723781, 23, \"gaman@gmail.com\")\n",
    "Rahul = CSE(8765383471, 37, \"rahulk@gmail.com\")\n",
    "Vivek = CSE(9734283002, 49, \"vivek123@gmail.com\")\n",
    "Anish.return_student_details()\n"
   ]
  },
  {
   "cell_type": "code",
   "execution_count": 26,
   "id": "dfdb5c90-6826-42a0-abe1-9bbcc36f0bf4",
   "metadata": {},
   "outputs": [
    {
     "data": {
      "text/plain": [
       "(9734283002, 49, 'vivek123@gmail.com')"
      ]
     },
     "execution_count": 26,
     "metadata": {},
     "output_type": "execute_result"
    }
   ],
   "source": [
    "Vivek.return_student_details()"
   ]
  },
  {
   "cell_type": "code",
   "execution_count": 27,
   "id": "ff9fe8ac-ebae-4bc2-8a4b-62daa90a6d9e",
   "metadata": {},
   "outputs": [
    {
     "data": {
      "text/plain": [
       "9546723781"
      ]
     },
     "execution_count": 27,
     "metadata": {},
     "output_type": "execute_result"
    }
   ],
   "source": [
    "Aman.phone_no"
   ]
  },
  {
   "cell_type": "raw",
   "id": "3d64bc67-69ff-41ec-b771-6f000625104d",
   "metadata": {},
   "source": []
  },
  {
   "cell_type": "code",
   "execution_count": 28,
   "id": "78c5f056-9d44-4b62-ac36-9214aead8400",
   "metadata": {},
   "outputs": [
    {
     "name": "stdout",
     "output_type": "stream",
     "text": [
      "red\n"
     ]
    }
   ],
   "source": [
    "class Car:\n",
    "\n",
    "    def __init__(self, color, model):\n",
    "\n",
    "        self.color = color\n",
    "\n",
    "        self.model = model\n",
    "\n",
    "    \n",
    "\n",
    "    def get_color(self):\n",
    "\n",
    "        return self.color\n",
    "\n",
    " \n",
    "\n",
    "my_car = Car(\"Red\", \"Sedan\")\n",
    "\n",
    "print(my_car.get_color())"
   ]
  },
  {
   "cell_type": "raw",
   "id": "65568577-f839-47b3-b98c-dca7f213b0b7",
   "metadata": {},
   "source": []
  },
  {
   "cell_type": "code",
   "execution_count": 29,
   "id": "3266a07b-64f5-4845-9fb5-e2d2b3a18382",
   "metadata": {},
   "outputs": [
    {
     "name": "stdout",
     "output_type": "stream",
     "text": [
      "John\n",
      "36\n"
     ]
    }
   ],
   "source": [
    "class Person:\n",
    "  def __init__(self, name, age):\n",
    "    self.name = name\n",
    "    self.age = age\n",
    "\n",
    "p1 = Person(\"John\", 36)\n",
    "\n",
    "print(p1.name)\n",
    "print(p1.age)"
   ]
  },
  {
   "cell_type": "raw",
   "id": "1b7f10fe-538a-4ff2-b961-bd9b29a0fc1c",
   "metadata": {},
   "source": []
  },
  {
   "cell_type": "code",
   "execution_count": 4,
   "id": "bf3e3db0-01fd-4bff-a7a8-8853606506e3",
   "metadata": {},
   "outputs": [
    {
     "name": "stdout",
     "output_type": "stream",
     "text": [
      "Welcome to CSE Dept.\n",
      "Welcome to IT Dept.\n"
     ]
    }
   ],
   "source": [
    "\"\"\"   .POLYMORPHISM.   \"\"\"\n",
    "class CSE:\n",
    "    def Class(self):\n",
    "        print(\"Welcome to CSE Dept.\")\n",
    "\n",
    "class IT:\n",
    "    def Class(self):\n",
    "        print(\"Welcome to IT Dept.\")\n",
    "        \n",
    "def class_parser(class_obj):\n",
    "    for i in class_obj:\n",
    "        i.Class()\n",
    "\n",
    "CSE = CSE()\n",
    "IT = IT()\n",
    "class_obj = [CSE, IT]\n",
    "class_parser(class_obj)"
   ]
  },
  {
   "cell_type": "code",
   "execution_count": 3,
   "id": "3054ba79-25c6-4134-ae95-a1b9e394fa9b",
   "metadata": {},
   "outputs": [
    {
     "data": {
      "text/plain": [
       "'i8'"
      ]
     },
     "execution_count": 3,
     "metadata": {},
     "output_type": "execute_result"
    }
   ],
   "source": [
    "\"\"\"  .ENCAPSULATION.  \"\"\"\n",
    "class car:\n",
    "    def __init__(self, year, make, model, speed, colour):\n",
    "        self.__year = year\n",
    "        self.__make = make\n",
    "        self.__model = model\n",
    "        self.speed = 0\n",
    "        self.colour = colour\n",
    "\n",
    "c = car(2021, \"BMW\", \"i8\", 329, \"White\")\n",
    "c._car__model"
   ]
  },
  {
   "cell_type": "raw",
   "id": "c2963028-22c6-4995-8d57-3a4f9a762e4b",
   "metadata": {},
   "source": []
  },
  {
   "cell_type": "code",
   "execution_count": 4,
   "id": "b13da174-efe2-49fa-bdf8-5408dce625e9",
   "metadata": {},
   "outputs": [],
   "source": [
    "class car:\n",
    "    def __init__(self, year, make, model, speed, colour):\n",
    "        self.__year = year\n",
    "        self.__make = make\n",
    "        self.__model = model\n",
    "        self.__speed = 0\n",
    "        self.__colour = colour\n",
    "        \n",
    "    def set_speed(self, speed):\n",
    "        self.__speed = 0 if speed < 0 else speed\n",
    "        \n",
    "    def get_speed(self):\n",
    "        return self.__speed\n",
    "\n",
    "c = car(2021, \"BMW\", \"i8\", 329, \"White\")"
   ]
  },
  {
   "cell_type": "code",
   "execution_count": 11,
   "id": "630f5619-adde-4951-b560-04379a60c9c5",
   "metadata": {},
   "outputs": [
    {
     "data": {
      "text/plain": [
       "329"
      ]
     },
     "execution_count": 11,
     "metadata": {},
     "output_type": "execute_result"
    }
   ],
   "source": [
    "c.set_speed(329)\n",
    "c.get_speed()"
   ]
  },
  {
   "cell_type": "raw",
   "id": "01ae439e-1606-4fe8-9a06-cf2d41a889ed",
   "metadata": {},
   "source": []
  },
  {
   "cell_type": "code",
   "execution_count": 47,
   "id": "590ee6a1-2c22-497b-ad46-e091fa200a76",
   "metadata": {},
   "outputs": [],
   "source": [
    "class bank_account:\n",
    "    def __init__(self, balance):\n",
    "        self.__balance = balance\n",
    "    \n",
    "    def deposit(self, amount):\n",
    "        self.__balance = self.__balance + amount\n",
    "        \n",
    "    def withdraw(self, amount):\n",
    "        if self.__balance >= amount :\n",
    "            self.__balance = self.__balance - amount\n",
    "            return True\n",
    "        else :\n",
    "            return False\n",
    "    \n",
    "    def get_balance(self):\n",
    "        return self.__balance\n",
    "    \n",
    "ac = bank_account(1567)"
   ]
  },
  {
   "cell_type": "code",
   "execution_count": 48,
   "id": "37691970-bb95-4ce0-8b12-aceaa6a0c4a4",
   "metadata": {},
   "outputs": [
    {
     "data": {
      "text/plain": [
       "1567"
      ]
     },
     "execution_count": 48,
     "metadata": {},
     "output_type": "execute_result"
    }
   ],
   "source": [
    "ac.get_balance()"
   ]
  },
  {
   "cell_type": "code",
   "execution_count": 49,
   "id": "390af06f-5bcf-4d0c-82b5-4b656d6354be",
   "metadata": {},
   "outputs": [
    {
     "data": {
      "text/plain": [
       "2567"
      ]
     },
     "execution_count": 49,
     "metadata": {},
     "output_type": "execute_result"
    }
   ],
   "source": [
    "ac.deposit(1000)\n",
    "ac.get_balance()"
   ]
  },
  {
   "cell_type": "code",
   "execution_count": 52,
   "id": "72036c55-321b-4bda-affb-3b5cd462aba8",
   "metadata": {},
   "outputs": [
    {
     "data": {
      "text/plain": [
       "True"
      ]
     },
     "execution_count": 52,
     "metadata": {},
     "output_type": "execute_result"
    }
   ],
   "source": [
    "ac.withdraw(345)"
   ]
  },
  {
   "cell_type": "code",
   "execution_count": 53,
   "id": "6e5f7daf-52a1-442a-be22-75f1aa4dcec1",
   "metadata": {},
   "outputs": [
    {
     "data": {
      "text/plain": [
       "False"
      ]
     },
     "execution_count": 53,
     "metadata": {},
     "output_type": "execute_result"
    }
   ],
   "source": [
    "ac.withdraw(4500)"
   ]
  },
  {
   "cell_type": "code",
   "execution_count": 54,
   "id": "ee29745b-040e-4051-87ae-8b21f446e080",
   "metadata": {},
   "outputs": [
    {
     "data": {
      "text/plain": [
       "2222"
      ]
     },
     "execution_count": 54,
     "metadata": {},
     "output_type": "execute_result"
    }
   ],
   "source": [
    "ac.get_balance()"
   ]
  },
  {
   "cell_type": "code",
   "execution_count": 64,
   "id": "9ee918bd-8803-40e0-ad25-2ce1d31f0587",
   "metadata": {},
   "outputs": [],
   "source": [
    "\"\"\"   .INHERITANCE.   \"\"\"\n",
    "#SINGLE INHERITANCE\n",
    "\n",
    "class class1():\n",
    "    def CSE(self):\n",
    "        return \"This is CSE\"\n",
    "    \n",
    "class class2(class1):\n",
    "    def IT(self):\n",
    "        return \"This is IT\"\n",
    "    \n",
    "class class3(class2):\n",
    "    pass\n",
    "\n",
    "Class = class3()"
   ]
  },
  {
   "cell_type": "code",
   "execution_count": 65,
   "id": "2ee9cb70-8914-45b4-8999-fecbd3c92948",
   "metadata": {},
   "outputs": [
    {
     "data": {
      "text/plain": [
       "'This is CSE'"
      ]
     },
     "execution_count": 65,
     "metadata": {},
     "output_type": "execute_result"
    }
   ],
   "source": [
    "Class.CSE()"
   ]
  },
  {
   "cell_type": "code",
   "execution_count": 66,
   "id": "bd7b3424-e3bd-4ce6-857b-09f657ef736a",
   "metadata": {},
   "outputs": [
    {
     "data": {
      "text/plain": [
       "'This is IT'"
      ]
     },
     "execution_count": 66,
     "metadata": {},
     "output_type": "execute_result"
    }
   ],
   "source": [
    "Class.IT()"
   ]
  },
  {
   "cell_type": "code",
   "execution_count": 67,
   "id": "3341177f-bb66-4c77-bb60-762d4534ad1b",
   "metadata": {},
   "outputs": [],
   "source": [
    "#MULTIPLE INHERITANCE\n",
    "class class1:\n",
    "    def CSE(self):\n",
    "        return \"This is CSE\"\n",
    "    \n",
    "class class2:\n",
    "    def IT(self):\n",
    "        return \"This is IT\"\n",
    "    \n",
    "class class3(class1, class2):\n",
    "    pass\n",
    "\n",
    "Class = class3()"
   ]
  },
  {
   "cell_type": "code",
   "execution_count": 69,
   "id": "e7e83142-9b3b-4b7e-b1a7-e7435134b30d",
   "metadata": {},
   "outputs": [
    {
     "data": {
      "text/plain": [
       "'This is CSE'"
      ]
     },
     "execution_count": 69,
     "metadata": {},
     "output_type": "execute_result"
    }
   ],
   "source": [
    "Class.CSE()"
   ]
  },
  {
   "cell_type": "code",
   "execution_count": 70,
   "id": "201313f2-698f-4e29-ae0a-8cc4fa1cea04",
   "metadata": {},
   "outputs": [
    {
     "data": {
      "text/plain": [
       "'This is IT'"
      ]
     },
     "execution_count": 70,
     "metadata": {},
     "output_type": "execute_result"
    }
   ],
   "source": [
    "Class.IT()"
   ]
  },
  {
   "cell_type": "code",
   "execution_count": null,
   "id": "f4568bb0-be67-41fb-8601-8a062bb6833c",
   "metadata": {},
   "outputs": [],
   "source": []
  }
 ],
 "metadata": {
  "kernelspec": {
   "display_name": "Python 3 (ipykernel)",
   "language": "python",
   "name": "python3"
  },
  "language_info": {
   "codemirror_mode": {
    "name": "ipython",
    "version": 3
   },
   "file_extension": ".py",
   "mimetype": "text/x-python",
   "name": "python",
   "nbconvert_exporter": "python",
   "pygments_lexer": "ipython3",
   "version": "3.10.8"
  }
 },
 "nbformat": 4,
 "nbformat_minor": 5
}
