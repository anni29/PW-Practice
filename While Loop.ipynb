{
 "cells": [
  {
   "cell_type": "code",
   "execution_count": 6,
   "id": "98fc65bf-7ea7-4ace-bef9-de41df7c169b",
   "metadata": {},
   "outputs": [
    {
     "name": "stdin",
     "output_type": "stream",
     "text": [
      "Enter the number 10\n"
     ]
    },
    {
     "data": {
      "text/plain": [
       "55"
      ]
     },
     "execution_count": 6,
     "metadata": {},
     "output_type": "execute_result"
    }
   ],
   "source": [
    "#Sum of n number\n",
    "n = int(input(\"Enter the number\"))\n",
    "sum = 0\n",
    "counter = 1\n",
    "while counter <= n:\n",
    "    sum = sum + counter\n",
    "    counter = counter + 1\n",
    "sum"
   ]
  },
  {
   "cell_type": "code",
   "execution_count": 7,
   "id": "e1a505e0-9c94-4b9a-879f-1a834ad1acf0",
   "metadata": {},
   "outputs": [
    {
     "name": "stdin",
     "output_type": "stream",
     "text": [
      "Enter the number 10\n"
     ]
    },
    {
     "data": {
      "text/plain": [
       "3628800"
      ]
     },
     "execution_count": 7,
     "metadata": {},
     "output_type": "execute_result"
    }
   ],
   "source": [
    "#Product of n number\n",
    "n = int(input(\"Enter the number\"))\n",
    "factorial = 1\n",
    "while n > 0:\n",
    "    factorial = factorial * n\n",
    "    n = n - 1\n",
    "factorial"
   ]
  },
  {
   "cell_type": "code",
   "execution_count": 8,
   "id": "d43d0c6d-63a6-4c01-b0bc-4de1624e324e",
   "metadata": {},
   "outputs": [
    {
     "name": "stdin",
     "output_type": "stream",
     "text": [
      "Enter the number 5\n"
     ]
    },
    {
     "data": {
      "text/plain": [
       "120"
      ]
     },
     "execution_count": 8,
     "metadata": {},
     "output_type": "execute_result"
    }
   ],
   "source": [
    "#Foctorial of n number\n",
    "n = int(input(\"Enter the number\"))\n",
    "factorial = 1\n",
    "while n > 0:\n",
    "    factorial = factorial * n\n",
    "    n = n - 1\n",
    "factorial"
   ]
  },
  {
   "cell_type": "code",
   "execution_count": 10,
   "id": "7ad58802-6ca7-4837-9121-5e8959b3f478",
   "metadata": {},
   "outputs": [
    {
     "name": "stdin",
     "output_type": "stream",
     "text": [
      "Enter the number 5\n"
     ]
    },
    {
     "name": "stdout",
     "output_type": "stream",
     "text": [
      "0\n",
      "1\n",
      "1\n",
      "2\n",
      "3\n"
     ]
    }
   ],
   "source": [
    "#Fibonacci of n number using while loop \n",
    "n = int(input(\"Enter the number\"))\n",
    "a , b = 0 , 1\n",
    "counter = 0\n",
    "while counter < n:\n",
    "    print(a)\n",
    "    c = a + b\n",
    "    a = b\n",
    "    b = c\n",
    "    counter = counter + 1"
   ]
  },
  {
   "cell_type": "code",
   "execution_count": 11,
   "id": "6bdcf65b-458f-4d20-b751-dbfea1cc6fde",
   "metadata": {},
   "outputs": [
    {
     "name": "stdin",
     "output_type": "stream",
     "text": [
      "Enter the number 5\n"
     ]
    },
    {
     "name": "stdout",
     "output_type": "stream",
     "text": [
      "0\n",
      "1\n",
      "1\n",
      "2\n",
      "3\n"
     ]
    }
   ],
   "source": [
    "#Fibonacci of n number using for loop\n",
    "n = int(input(\"Enter the number\"))\n",
    "a , b = 0 , 1\n",
    "for i in range (n):\n",
    "    print(a)\n",
    "    c = a + b\n",
    "    a = b\n",
    "    b = c"
   ]
  },
  {
   "cell_type": "code",
   "execution_count": 12,
   "id": "45fd45a5-a17a-4ebd-aedd-76c30049e876",
   "metadata": {},
   "outputs": [
    {
     "name": "stdin",
     "output_type": "stream",
     "text": [
      "Enter the String Anish Akshi\n"
     ]
    },
    {
     "name": "stdout",
     "output_type": "stream",
     "text": [
      "ihskA hsinA\n"
     ]
    }
   ],
   "source": [
    "#Reverse of String\n",
    "word = input(\"Enter the String\")\n",
    "reverse = \"\"\n",
    "length = len(word)\n",
    "while length > 0:\n",
    "    reverse = reverse + word [length - 1]\n",
    "    length = length - 1\n",
    "print (reverse)"
   ]
  },
  {
   "cell_type": "code",
   "execution_count": 1,
   "id": "0dfd661a-551d-4bc6-935c-ab41ec8ae01b",
   "metadata": {},
   "outputs": [
    {
     "name": "stdin",
     "output_type": "stream",
     "text": [
      "Enter the number 10\n"
     ]
    },
    {
     "name": "stdout",
     "output_type": "stream",
     "text": [
      "10  *  1  =  10\n",
      "10  *  2  =  20\n",
      "10  *  3  =  30\n",
      "10  *  4  =  40\n",
      "10  *  5  =  50\n",
      "10  *  6  =  60\n",
      "10  *  7  =  70\n",
      "10  *  8  =  80\n",
      "10  *  9  =  90\n",
      "10  *  10  =  100\n"
     ]
    }
   ],
   "source": [
    "#Table of given number \n",
    "n = int(input(\"Enter the number\"))\n",
    "i = 1\n",
    "while i <= 10 :\n",
    "    result = n * i\n",
    "    print (n,\" * \",i,\" = \",result)\n",
    "    i = i + 1"
   ]
  }
 ],
 "metadata": {
  "kernelspec": {
   "display_name": "Python 3 (ipykernel)",
   "language": "python",
   "name": "python3"
  },
  "language_info": {
   "codemirror_mode": {
    "name": "ipython",
    "version": 3
   },
   "file_extension": ".py",
   "mimetype": "text/x-python",
   "name": "python",
   "nbconvert_exporter": "python",
   "pygments_lexer": "ipython3",
   "version": "3.10.8"
  }
 },
 "nbformat": 4,
 "nbformat_minor": 5
}
