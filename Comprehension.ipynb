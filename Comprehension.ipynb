{
 "cells": [
  {
   "cell_type": "code",
   "execution_count": 16,
   "id": "3a745216-4c5a-4749-9ffd-14a2e0b3d17b",
   "metadata": {},
   "outputs": [
    {
     "name": "stdout",
     "output_type": "stream",
     "text": [
      "[1, 4, 9, 16, 25]\n"
     ]
    }
   ],
   "source": [
    "l1 = [1,2,3,4,5]\n",
    "l2 = []\n",
    "for i in l1 :\n",
    "    l2.append(i**2)\n",
    "print(l2)"
   ]
  },
  {
   "cell_type": "raw",
   "id": "8f0c3fa8-f302-4907-830d-5736bbc7be06",
   "metadata": {},
   "source": []
  },
  {
   "cell_type": "code",
   "execution_count": null,
   "id": "c3ce5a19-1c6d-4b99-93e6-c879d0bfd99a",
   "metadata": {},
   "outputs": [
    {
     "data": {
      "text/plain": [
       "[1, 4, 9, 16, 25]"
      ]
     },
     "execution_count": 9,
     "metadata": {},
     "output_type": "execute_result"
    }
   ],
   "source": [
    "l1 = [1,2,3,4,5]\n",
    "[i**2 for i in l1]"
   ]
  },
  {
   "cell_type": "raw",
   "id": "d814deb4-4150-4d1b-ae0b-53a3d4c9a340",
   "metadata": {},
   "source": []
  },
  {
   "cell_type": "code",
   "execution_count": 23,
   "id": "2d386ad1-a981-4905-b1ec-9c55a2bbc34d",
   "metadata": {},
   "outputs": [
    {
     "data": {
      "text/plain": [
       "dict_items([('n1', 1), ('n2', 2), ('n3', 3), ('n4', 4), ('n5', 5)])"
      ]
     },
     "execution_count": 23,
     "metadata": {},
     "output_type": "execute_result"
    }
   ],
   "source": [
    "d = {\"n1\" : 1, \"n2\" : 2, \"n3\" : 3, \"n4\" : 4, \"n5\" : 5}\n",
    "d.items()"
   ]
  },
  {
   "cell_type": "raw",
   "id": "d0db4ff5-6e6a-4eb6-9cc6-41ecba1e7116",
   "metadata": {},
   "source": []
  },
  {
   "cell_type": "code",
   "execution_count": 21,
   "id": "3eeccff1-5e67-4ac3-a804-c50871af80d4",
   "metadata": {},
   "outputs": [
    {
     "data": {
      "text/plain": [
       "{'n1': 1, 'n2': 4, 'n3': 9, 'n4': 16, 'n5': 25}"
      ]
     },
     "execution_count": 21,
     "metadata": {},
     "output_type": "execute_result"
    }
   ],
   "source": [
    "d = {\"n1\" : 1, \"n2\" : 2, \"n3\" : 3, \"n4\" : 4, \"n5\" : 5}\n",
    "{i:n**2 for i, n in d.items()} "
   ]
  },
  {
   "cell_type": "raw",
   "id": "1cf0a586-4386-40bd-b592-96390ab6df57",
   "metadata": {},
   "source": []
  },
  {
   "cell_type": "code",
   "execution_count": 26,
   "id": "e3ad3818-033e-4bac-bd7e-aba0f609cc82",
   "metadata": {},
   "outputs": [
    {
     "data": {
      "text/plain": [
       "{'n2': 2, 'n3': 3, 'n4': 4, 'n5': 5}"
      ]
     },
     "execution_count": 26,
     "metadata": {},
     "output_type": "execute_result"
    }
   ],
   "source": [
    "{i : n for i , n in d.items() if n > 1}"
   ]
  },
  {
   "cell_type": "raw",
   "id": "60748fef-981c-4cec-8181-55111bbbc474",
   "metadata": {},
   "source": []
  },
  {
   "cell_type": "code",
   "execution_count": 2,
   "id": "c88460b3-2540-4325-9b10-59bd4b0e6edc",
   "metadata": {},
   "outputs": [
    {
     "data": {
      "text/plain": [
       "[1, 3, 5, 7, 9]"
      ]
     },
     "execution_count": 2,
     "metadata": {},
     "output_type": "execute_result"
    }
   ],
   "source": [
    "A = list(range(0,11))\n",
    "[i for i in A if i % 2 != 0]"
   ]
  },
  {
   "cell_type": "raw",
   "id": "5ca5e2a8-f0d3-4f2b-bf40-99bfce9a71b9",
   "metadata": {},
   "source": []
  },
  {
   "cell_type": "code",
   "execution_count": null,
   "id": "ab030199-6809-4da2-a72b-cb3164463997",
   "metadata": {},
   "outputs": [],
   "source": []
  }
 ],
 "metadata": {
  "kernelspec": {
   "display_name": "Python 3 (ipykernel)",
   "language": "python",
   "name": "python3"
  },
  "language_info": {
   "codemirror_mode": {
    "name": "ipython",
    "version": 3
   },
   "file_extension": ".py",
   "mimetype": "text/x-python",
   "name": "python",
   "nbconvert_exporter": "python",
   "pygments_lexer": "ipython3",
   "version": "3.10.8"
  }
 },
 "nbformat": 4,
 "nbformat_minor": 5
}
